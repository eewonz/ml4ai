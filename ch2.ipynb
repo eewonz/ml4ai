{
  "nbformat": 4,
  "nbformat_minor": 0,
  "metadata": {
    "colab": {
      "private_outputs": true,
      "provenance": [],
      "authorship_tag": "ABX9TyNkl2fa5s6R11wHE7WF2mnP",
      "include_colab_link": true
    },
    "kernelspec": {
      "name": "python3",
      "display_name": "Python 3"
    },
    "language_info": {
      "name": "python"
    }
  },
  "cells": [
    {
      "cell_type": "markdown",
      "metadata": {
        "id": "view-in-github",
        "colab_type": "text"
      },
      "source": [
        "<a href=\"https://colab.research.google.com/github/eewonz/ml4ai/blob/main/ch2.ipynb\" target=\"_parent\"><img src=\"https://colab.research.google.com/assets/colab-badge.svg\" alt=\"Open In Colab\"/></a>"
      ]
    },
    {
      "cell_type": "code",
      "execution_count": null,
      "metadata": {
        "id": "mnepMPnAq-g8"
      },
      "outputs": [],
      "source": [
        "from google.colab import drive\n",
        "drive.mount('/content/drive')"
      ]
    },
    {
      "cell_type": "code",
      "source": [
        "import os\n",
        "import sys\n",
        "os.listdir()"
      ],
      "metadata": {
        "id": "WWslewngvSkf"
      },
      "execution_count": null,
      "outputs": []
    },
    {
      "cell_type": "code",
      "source": [
        "cd drive"
      ],
      "metadata": {
        "id": "kCwNDaA9vnPR"
      },
      "execution_count": null,
      "outputs": []
    },
    {
      "cell_type": "code",
      "source": [
        "os.listdir()"
      ],
      "metadata": {
        "id": "Kl9MJ_QOv1-2"
      },
      "execution_count": null,
      "outputs": []
    },
    {
      "cell_type": "code",
      "source": [
        "cd MyDrive/Hands-On-Data-Analysis-with-Pandas-2nd-edition/"
      ],
      "metadata": {
        "id": "ag-VB2rKwBbH"
      },
      "execution_count": null,
      "outputs": []
    },
    {
      "cell_type": "code",
      "source": [
        "cd ch_02"
      ],
      "metadata": {
        "id": "owfvG-ZxwZpo"
      },
      "execution_count": null,
      "outputs": []
    },
    {
      "cell_type": "code",
      "source": [
        "cd /content/drive/MyDrive/Hands-On-Data-Analysis-with-Pandas-2nd-edition/ch_02"
      ],
      "metadata": {
        "id": "B9Nui5iXxOve"
      },
      "execution_count": null,
      "outputs": []
    },
    {
      "cell_type": "code",
      "source": [
        "import numpy as np\n",
        "\n",
        "data= np.genfromtxt(\n",
        "    'data/example_data.csv', delimiter=';',\n",
        "    names=True, dtype=None, encoding='UTF'\n",
        ")\n",
        "data"
      ],
      "metadata": {
        "id": "2ZsNs9CQxejb"
      },
      "execution_count": null,
      "outputs": []
    },
    {
      "cell_type": "code",
      "source": [
        "data.shape"
      ],
      "metadata": {
        "id": "x4YNjup2yK36"
      },
      "execution_count": null,
      "outputs": []
    },
    {
      "cell_type": "code",
      "source": [
        "data.dtype"
      ],
      "metadata": {
        "id": "cAEowIidySxB"
      },
      "execution_count": null,
      "outputs": []
    },
    {
      "cell_type": "code",
      "source": [
        "[i*2 for i in range(3)]"
      ],
      "metadata": {
        "id": "4JG7Koowyk7Y"
      },
      "execution_count": null,
      "outputs": []
    },
    {
      "cell_type": "code",
      "source": [
        "[row[3] for row in data]"
      ],
      "metadata": {
        "id": "FFO_pVZIzcgC"
      },
      "execution_count": null,
      "outputs": []
    },
    {
      "cell_type": "code",
      "source": [
        "max([row[3] for row in data])"
      ],
      "metadata": {
        "id": "JwEogqSQ04_g"
      },
      "execution_count": null,
      "outputs": []
    },
    {
      "cell_type": "code",
      "source": [
        "%%timeit\n",
        "max([row[3] for row in data])"
      ],
      "metadata": {
        "id": "E_rX24gv1Jx9"
      },
      "execution_count": null,
      "outputs": []
    },
    {
      "cell_type": "code",
      "source": [
        "data.dtype.names"
      ],
      "metadata": {
        "id": "mXY0mhQTMcjU"
      },
      "execution_count": null,
      "outputs": []
    },
    {
      "cell_type": "code",
      "source": [
        "for i, col in enumerate(data.dtype.names):\n",
        "  print(i,col)"
      ],
      "metadata": {
        "id": "JGsBUC0_x66E"
      },
      "execution_count": null,
      "outputs": []
    },
    {
      "cell_type": "code",
      "source": [
        "[row[0] for row in data]"
      ],
      "metadata": {
        "id": "_cbKoaggyu2n"
      },
      "execution_count": null,
      "outputs": []
    },
    {
      "cell_type": "code",
      "source": [
        "array_dict={\n",
        "    col:np.array([[row[i]] for row in data])\n",
        "    for i, col in enumerate(data.dtype.names)\n",
        "}\n",
        "array_dict"
      ],
      "metadata": {
        "id": "Cl9kzqkIy53U"
      },
      "execution_count": null,
      "outputs": []
    },
    {
      "cell_type": "code",
      "source": [
        "array_dict['mag']"
      ],
      "metadata": {
        "id": "kZVQGiyD0jGJ"
      },
      "execution_count": null,
      "outputs": []
    },
    {
      "cell_type": "code",
      "source": [
        "%%timeit\n",
        "array_dict['mag'].max()"
      ],
      "metadata": {
        "id": "uSOG2_4I0vH2"
      },
      "execution_count": null,
      "outputs": []
    },
    {
      "cell_type": "code",
      "source": [
        "for key, value in array_dict.items():\n",
        "  print(key,value)"
      ],
      "metadata": {
        "id": "8sbY2hnM2etD"
      },
      "execution_count": null,
      "outputs": []
    },
    {
      "cell_type": "code",
      "source": [
        "array_dict['mag'].argmax()"
      ],
      "metadata": {
        "id": "cv9YHS_q20JC"
      },
      "execution_count": null,
      "outputs": []
    },
    {
      "cell_type": "code",
      "source": [
        "np.array([\n",
        "    value[array_dict['mag'].argmax()]\n",
        "    for key,value in array_dict.items()\n",
        "])"
      ],
      "metadata": {
        "id": "v8V-xUR-3BTk"
      },
      "execution_count": null,
      "outputs": []
    },
    {
      "cell_type": "code",
      "source": [
        "import pandas as pd\n",
        "place = pd.Series(array_dict['place'], name='place')\n",
        "place"
      ],
      "metadata": {
        "id": "WGJEm6Mm3l9a"
      },
      "execution_count": null,
      "outputs": []
    },
    {
      "cell_type": "code",
      "source": [
        "import pandas as pd\n",
        "\n",
        "# Check the data in array_dict['place']\n",
        "print(array_dict['place'])\n",
        "\n",
        "# Assuming array_dict['place'] is a one-dimensional list, you can create a Series like this:\n",
        "place = pd.Series(array_dict['place'], name='place')\n",
        "print(place)"
      ],
      "metadata": {
        "id": "qYETyzrsQ36v"
      },
      "execution_count": null,
      "outputs": []
    },
    {
      "cell_type": "markdown",
      "source": [
        "##Series"
      ],
      "metadata": {
        "id": "h_mp0OJWzja-"
      }
    },
    {
      "cell_type": "code",
      "source": [
        "array_dict['place']"
      ],
      "metadata": {
        "id": "d-A8WpkszmPe"
      },
      "execution_count": null,
      "outputs": []
    },
    {
      "cell_type": "code",
      "source": [
        "import pandas as pd\n",
        "from pandas import Series;  from numpy.random import randn\n",
        "place=pd.Series(array_dict['place'], name='place')\n",
        "place"
      ],
      "metadata": {
        "id": "BFVZkduYztEo"
      },
      "execution_count": null,
      "outputs": []
    },
    {
      "cell_type": "code",
      "source": [
        "place.values\n",
        "place.name\n",
        "place.dtype\n",
        "place.shape"
      ],
      "metadata": {
        "id": "bKEHpCoD07qT"
      },
      "execution_count": null,
      "outputs": []
    },
    {
      "cell_type": "markdown",
      "source": [
        "##Index"
      ],
      "metadata": {
        "id": "XpQc4_Ws22Ef"
      }
    },
    {
      "cell_type": "code",
      "source": [
        "place_index=place.index\n",
        "place_index"
      ],
      "metadata": {
        "id": "HmIBBMYr233W"
      },
      "execution_count": null,
      "outputs": []
    },
    {
      "cell_type": "code",
      "source": [
        "place_index.values"
      ],
      "metadata": {
        "id": "2-nQT-B_42Uu"
      },
      "execution_count": null,
      "outputs": []
    },
    {
      "cell_type": "code",
      "source": [
        "place_index.dtype"
      ],
      "metadata": {
        "id": "euhot93C47vP"
      },
      "execution_count": null,
      "outputs": []
    },
    {
      "cell_type": "code",
      "source": [
        "place_index.is_unique"
      ],
      "metadata": {
        "id": "8tORFCma5XRZ"
      },
      "execution_count": null,
      "outputs": []
    },
    {
      "cell_type": "code",
      "source": [
        "np.array([1,1,1])+np.array([-1,0,1])"
      ],
      "metadata": {
        "id": "Owq3t1Gt5bY_"
      },
      "execution_count": null,
      "outputs": []
    },
    {
      "cell_type": "code",
      "source": [
        "numbers=np.linspace(0,10,num=5)\n",
        "x=pd.Series(numbers)\n",
        "y=pd.Series(numbers, index=pd.index([1,2,3,4,5]))\n",
        "x+y"
      ],
      "metadata": {
        "id": "zLG5r8Fr5pO9"
      },
      "execution_count": null,
      "outputs": []
    },
    {
      "cell_type": "markdown",
      "source": [
        "##Dataframe"
      ],
      "metadata": {
        "id": "1CdsCc6S6Zf0"
      }
    },
    {
      "cell_type": "code",
      "source": [
        "array_dict"
      ],
      "metadata": {
        "id": "AfBjPNWO6WL5"
      },
      "execution_count": null,
      "outputs": []
    },
    {
      "cell_type": "code",
      "source": [
        "df=pd.DataFrame(array_dict)"
      ],
      "metadata": {
        "id": "m1dCFvi86YLo"
      },
      "execution_count": null,
      "outputs": []
    },
    {
      "cell_type": "code",
      "source": [
        "df.dtype\n",
        "df.values\n",
        "df.columns\n",
        "df.index\n",
        "df.shape\n",
        "df+df"
      ],
      "metadata": {
        "id": "GzlPuEKY6tMQ"
      },
      "execution_count": null,
      "outputs": []
    },
    {
      "cell_type": "markdown",
      "source": [
        "##practice"
      ],
      "metadata": {
        "id": "4zSDPMrBV2-g"
      }
    },
    {
      "cell_type": "code",
      "source": [
        "import pandas as pd"
      ],
      "metadata": {
        "id": "t5GR7Ywq7BPA"
      },
      "execution_count": null,
      "outputs": []
    },
    {
      "cell_type": "code",
      "source": [
        "team_data={\n",
        "    'name':['Haram','Minji','Donghyun','Wonjune'],\n",
        "    'Hobby':['Game','running','soccer','baseball'],\n",
        "    'nationality':['korea','korea','korea','korea']\n",
        "}"
      ],
      "metadata": {
        "id": "t12SXRkcTK0R"
      },
      "execution_count": null,
      "outputs": []
    },
    {
      "cell_type": "code",
      "source": [
        "team_df=pd.DataFrame(team_data)"
      ],
      "metadata": {
        "id": "jbmK_KMiUDvN"
      },
      "execution_count": null,
      "outputs": []
    },
    {
      "cell_type": "code",
      "source": [
        "team_df.to_csv('team_members.csv',index=False)"
      ],
      "metadata": {
        "id": "NcXQMWqCUOnX"
      },
      "execution_count": null,
      "outputs": []
    },
    {
      "cell_type": "code",
      "source": [
        "loaded_team_df=pd.read_csv('team_members.csv')"
      ],
      "metadata": {
        "id": "Yj9j5gtrUWxJ"
      },
      "execution_count": null,
      "outputs": []
    },
    {
      "cell_type": "code",
      "source": [
        "print(loaded_team_df.head())"
      ],
      "metadata": {
        "id": "hpiwQFhrUeRe"
      },
      "execution_count": null,
      "outputs": []
    },
    {
      "cell_type": "code",
      "source": [
        "print(loaded_team_df.describe())"
      ],
      "metadata": {
        "id": "tJndVChWUvPX"
      },
      "execution_count": null,
      "outputs": []
    },
    {
      "cell_type": "code",
      "source": [
        "names = loaded_team_df['name']\n",
        "hobbies = loaded_team_df['Hobby']"
      ],
      "metadata": {
        "id": "ItjwFUObVDPq"
      },
      "execution_count": null,
      "outputs": []
    },
    {
      "cell_type": "code",
      "source": [
        "loaded_team_df.set_index('name',inplace=True)"
      ],
      "metadata": {
        "id": "iQumqiSeVPrI"
      },
      "execution_count": null,
      "outputs": []
    }
  ]
}