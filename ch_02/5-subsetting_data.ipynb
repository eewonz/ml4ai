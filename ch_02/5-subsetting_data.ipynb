{
  "cells": [
    {
      "cell_type": "markdown",
      "metadata": {
        "id": "cwd8D83pS26i"
      },
      "source": [
        "# Subsetting the data\n",
        "\n",
        "## About the Data\n",
        "In this notebook, we will be working with earthquake data from September 18, 2018 - October 13, 2018 (obtained from the US Geological Survey (USGS) using the [USGS API](https://earthquake.usgs.gov/fdsnws/event/1/))\n",
        "\n",
        "## Setup\n",
        "We will be working with the `data/earthquakes.csv` file again, so we need to handle our imports and read it in."
      ]
    },
    {
      "cell_type": "code",
      "source": [
        "from google.colab import drive\n",
        "drive.mount('/content/drive')"
      ],
      "metadata": {
        "colab": {
          "base_uri": "https://localhost:8080/"
        },
        "id": "QzM8yFLcTSVk",
        "outputId": "3db1e125-d7c4-4481-96dc-d9f60be1a820"
      },
      "execution_count": 1,
      "outputs": [
        {
          "output_type": "stream",
          "name": "stdout",
          "text": [
            "Mounted at /content/drive\n"
          ]
        }
      ]
    },
    {
      "cell_type": "code",
      "source": [
        "import os\n",
        "import sys\n",
        "os.listdir()"
      ],
      "metadata": {
        "colab": {
          "base_uri": "https://localhost:8080/"
        },
        "id": "fBzyXJRdTayk",
        "outputId": "66518229-37fb-4430-8a52-e6a0212f6cb1"
      },
      "execution_count": 2,
      "outputs": [
        {
          "output_type": "execute_result",
          "data": {
            "text/plain": [
              "['.config', 'drive', 'sample_data']"
            ]
          },
          "metadata": {},
          "execution_count": 2
        }
      ]
    },
    {
      "cell_type": "code",
      "source": [
        "cd drive"
      ],
      "metadata": {
        "colab": {
          "base_uri": "https://localhost:8080/"
        },
        "id": "IUrVWt3eTdXu",
        "outputId": "fe2e085f-d725-40dc-9206-d819fd954f30"
      },
      "execution_count": 3,
      "outputs": [
        {
          "output_type": "stream",
          "name": "stdout",
          "text": [
            "/content/drive\n"
          ]
        }
      ]
    },
    {
      "cell_type": "code",
      "source": [
        "cd MyDrive/Hands-On-Data-Analysis-with-Pandas-2nd-edition/"
      ],
      "metadata": {
        "colab": {
          "base_uri": "https://localhost:8080/"
        },
        "id": "xRybyvulTfD7",
        "outputId": "c1c23052-3023-4316-d55a-734b791bd1bf"
      },
      "execution_count": 4,
      "outputs": [
        {
          "output_type": "stream",
          "name": "stdout",
          "text": [
            "/content/drive/MyDrive/Hands-On-Data-Analysis-with-Pandas-2nd-edition\n"
          ]
        }
      ]
    },
    {
      "cell_type": "code",
      "source": [
        "cd ch_02"
      ],
      "metadata": {
        "colab": {
          "base_uri": "https://localhost:8080/"
        },
        "id": "W13JCMUDToZ1",
        "outputId": "e22f7c57-e7db-4071-9940-526a787c4fdc"
      },
      "execution_count": 27,
      "outputs": [
        {
          "output_type": "stream",
          "name": "stdout",
          "text": [
            "[Errno 2] No such file or directory: 'ch_02'\n",
            "/content/drive/MyDrive/Hands-On-Data-Analysis-with-Pandas-2nd-edition/ch_03\n"
          ]
        }
      ]
    },
    {
      "cell_type": "code",
      "source": [],
      "metadata": {
        "id": "-7KlCU8sdBjT"
      },
      "execution_count": null,
      "outputs": []
    },
    {
      "cell_type": "code",
      "source": [
        "cd /content/drive/MyDrive/Hands-On-Data-Analysis-with-Pandas-2nd-edition/ch_02"
      ],
      "metadata": {
        "colab": {
          "base_uri": "https://localhost:8080/"
        },
        "id": "l2mZS_0STqzL",
        "outputId": "d1887408-240f-41e3-b682-f7055d182ad2"
      },
      "execution_count": 28,
      "outputs": [
        {
          "output_type": "stream",
          "name": "stdout",
          "text": [
            "/content/drive/MyDrive/Hands-On-Data-Analysis-with-Pandas-2nd-edition/ch_02\n"
          ]
        }
      ]
    },
    {
      "cell_type": "code",
      "source": [
        "import pandas as pd\n",
        "\n",
        "# 1. Load earthquakes data\n",
        "df = pd.read_csv('data/earthquakes.csv')"
      ],
      "metadata": {
        "id": "O8Xs1uORcrb4"
      },
      "execution_count": 29,
      "outputs": []
    },
    {
      "cell_type": "code",
      "source": [
        "import datetime as dt\n",
        "import pandas as pd\n",
        "import requests\n",
        "\n",
        "yesterday = dt.date.today() - dt.timedelta(days=1)\n",
        "api = 'https://earthquake.usgs.gov/fdsnws/event/1/query'\n",
        "payload = {\n",
        "    'format': 'geojson',\n",
        "    'starttime': yesterday - dt.timedelta(days=30),\n",
        "    'endtime': yesterday\n",
        "}\n",
        "response = requests.get(api, params=payload)\n",
        "\n",
        "# let's make sure the request was OK\n",
        "response.status_code"
      ],
      "metadata": {
        "colab": {
          "base_uri": "https://localhost:8080/"
        },
        "id": "x4IrjOvqWvYL",
        "outputId": "222372e2-ef73-48de-82d8-64fdaaa017e9"
      },
      "execution_count": 11,
      "outputs": [
        {
          "output_type": "execute_result",
          "data": {
            "text/plain": [
              "200"
            ]
          },
          "metadata": {},
          "execution_count": 11
        }
      ]
    },
    {
      "cell_type": "code",
      "source": [
        "earthquake_df=earthquake_json = response.json()\n",
        "earthquake_df.keys()"
      ],
      "metadata": {
        "colab": {
          "base_uri": "https://localhost:8080/"
        },
        "id": "YaPrz93LXPUM",
        "outputId": "47143d22-47fc-4be3-e865-8dae929bb43c"
      },
      "execution_count": 19,
      "outputs": [
        {
          "output_type": "execute_result",
          "data": {
            "text/plain": [
              "dict_keys(['type', 'metadata', 'features', 'bbox'])"
            ]
          },
          "metadata": {},
          "execution_count": 19
        }
      ]
    },
    {
      "cell_type": "code",
      "source": [],
      "metadata": {
        "colab": {
          "base_uri": "https://localhost:8080/",
          "height": 333
        },
        "id": "XitL5D5laht1",
        "outputId": "e8853571-f545-49fb-88ad-5395f9cef14d"
      },
      "execution_count": 23,
      "outputs": [
        {
          "output_type": "error",
          "ename": "ValueError",
          "evalue": "ignored",
          "traceback": [
            "\u001b[0;31m---------------------------------------------------------------------------\u001b[0m",
            "\u001b[0;31mValueError\u001b[0m                                Traceback (most recent call last)",
            "\u001b[0;32m<ipython-input-23-f84ffecbd5c8>\u001b[0m in \u001b[0;36m<cell line: 1>\u001b[0;34m()\u001b[0m\n\u001b[0;32m----> 1\u001b[0;31m \u001b[0mearthquake_df\u001b[0m\u001b[0;34m=\u001b[0m\u001b[0mpd\u001b[0m\u001b[0;34m.\u001b[0m\u001b[0mDataFrame\u001b[0m\u001b[0;34m(\u001b[0m\u001b[0mearthquake_df\u001b[0m\u001b[0;34m)\u001b[0m\u001b[0;34m\u001b[0m\u001b[0;34m\u001b[0m\u001b[0m\n\u001b[0m",
            "\u001b[0;32m/usr/local/lib/python3.10/dist-packages/pandas/core/frame.py\u001b[0m in \u001b[0;36m__init__\u001b[0;34m(self, data, index, columns, dtype, copy)\u001b[0m\n\u001b[1;32m    662\u001b[0m         \u001b[0;32melif\u001b[0m \u001b[0misinstance\u001b[0m\u001b[0;34m(\u001b[0m\u001b[0mdata\u001b[0m\u001b[0;34m,\u001b[0m \u001b[0mdict\u001b[0m\u001b[0;34m)\u001b[0m\u001b[0;34m:\u001b[0m\u001b[0;34m\u001b[0m\u001b[0;34m\u001b[0m\u001b[0m\n\u001b[1;32m    663\u001b[0m             \u001b[0;31m# GH#38939 de facto copy defaults to False only in non-dict cases\u001b[0m\u001b[0;34m\u001b[0m\u001b[0;34m\u001b[0m\u001b[0m\n\u001b[0;32m--> 664\u001b[0;31m             \u001b[0mmgr\u001b[0m \u001b[0;34m=\u001b[0m \u001b[0mdict_to_mgr\u001b[0m\u001b[0;34m(\u001b[0m\u001b[0mdata\u001b[0m\u001b[0;34m,\u001b[0m \u001b[0mindex\u001b[0m\u001b[0;34m,\u001b[0m \u001b[0mcolumns\u001b[0m\u001b[0;34m,\u001b[0m \u001b[0mdtype\u001b[0m\u001b[0;34m=\u001b[0m\u001b[0mdtype\u001b[0m\u001b[0;34m,\u001b[0m \u001b[0mcopy\u001b[0m\u001b[0;34m=\u001b[0m\u001b[0mcopy\u001b[0m\u001b[0;34m,\u001b[0m \u001b[0mtyp\u001b[0m\u001b[0;34m=\u001b[0m\u001b[0mmanager\u001b[0m\u001b[0;34m)\u001b[0m\u001b[0;34m\u001b[0m\u001b[0;34m\u001b[0m\u001b[0m\n\u001b[0m\u001b[1;32m    665\u001b[0m         \u001b[0;32melif\u001b[0m \u001b[0misinstance\u001b[0m\u001b[0;34m(\u001b[0m\u001b[0mdata\u001b[0m\u001b[0;34m,\u001b[0m \u001b[0mma\u001b[0m\u001b[0;34m.\u001b[0m\u001b[0mMaskedArray\u001b[0m\u001b[0;34m)\u001b[0m\u001b[0;34m:\u001b[0m\u001b[0;34m\u001b[0m\u001b[0;34m\u001b[0m\u001b[0m\n\u001b[1;32m    666\u001b[0m             \u001b[0;32mimport\u001b[0m \u001b[0mnumpy\u001b[0m\u001b[0;34m.\u001b[0m\u001b[0mma\u001b[0m\u001b[0;34m.\u001b[0m\u001b[0mmrecords\u001b[0m \u001b[0;32mas\u001b[0m \u001b[0mmrecords\u001b[0m\u001b[0;34m\u001b[0m\u001b[0;34m\u001b[0m\u001b[0m\n",
            "\u001b[0;32m/usr/local/lib/python3.10/dist-packages/pandas/core/internals/construction.py\u001b[0m in \u001b[0;36mdict_to_mgr\u001b[0;34m(data, index, columns, dtype, typ, copy)\u001b[0m\n\u001b[1;32m    491\u001b[0m             \u001b[0marrays\u001b[0m \u001b[0;34m=\u001b[0m \u001b[0;34m[\u001b[0m\u001b[0mx\u001b[0m\u001b[0;34m.\u001b[0m\u001b[0mcopy\u001b[0m\u001b[0;34m(\u001b[0m\u001b[0;34m)\u001b[0m \u001b[0;32mif\u001b[0m \u001b[0mhasattr\u001b[0m\u001b[0;34m(\u001b[0m\u001b[0mx\u001b[0m\u001b[0;34m,\u001b[0m \u001b[0;34m\"dtype\"\u001b[0m\u001b[0;34m)\u001b[0m \u001b[0;32melse\u001b[0m \u001b[0mx\u001b[0m \u001b[0;32mfor\u001b[0m \u001b[0mx\u001b[0m \u001b[0;32min\u001b[0m \u001b[0marrays\u001b[0m\u001b[0;34m]\u001b[0m\u001b[0;34m\u001b[0m\u001b[0;34m\u001b[0m\u001b[0m\n\u001b[1;32m    492\u001b[0m \u001b[0;34m\u001b[0m\u001b[0m\n\u001b[0;32m--> 493\u001b[0;31m     \u001b[0;32mreturn\u001b[0m \u001b[0marrays_to_mgr\u001b[0m\u001b[0;34m(\u001b[0m\u001b[0marrays\u001b[0m\u001b[0;34m,\u001b[0m \u001b[0mcolumns\u001b[0m\u001b[0;34m,\u001b[0m \u001b[0mindex\u001b[0m\u001b[0;34m,\u001b[0m \u001b[0mdtype\u001b[0m\u001b[0;34m=\u001b[0m\u001b[0mdtype\u001b[0m\u001b[0;34m,\u001b[0m \u001b[0mtyp\u001b[0m\u001b[0;34m=\u001b[0m\u001b[0mtyp\u001b[0m\u001b[0;34m,\u001b[0m \u001b[0mconsolidate\u001b[0m\u001b[0;34m=\u001b[0m\u001b[0mcopy\u001b[0m\u001b[0;34m)\u001b[0m\u001b[0;34m\u001b[0m\u001b[0;34m\u001b[0m\u001b[0m\n\u001b[0m\u001b[1;32m    494\u001b[0m \u001b[0;34m\u001b[0m\u001b[0m\n\u001b[1;32m    495\u001b[0m \u001b[0;34m\u001b[0m\u001b[0m\n",
            "\u001b[0;32m/usr/local/lib/python3.10/dist-packages/pandas/core/internals/construction.py\u001b[0m in \u001b[0;36marrays_to_mgr\u001b[0;34m(arrays, columns, index, dtype, verify_integrity, typ, consolidate)\u001b[0m\n\u001b[1;32m    116\u001b[0m         \u001b[0;31m# figure out the index, if necessary\u001b[0m\u001b[0;34m\u001b[0m\u001b[0;34m\u001b[0m\u001b[0m\n\u001b[1;32m    117\u001b[0m         \u001b[0;32mif\u001b[0m \u001b[0mindex\u001b[0m \u001b[0;32mis\u001b[0m \u001b[0;32mNone\u001b[0m\u001b[0;34m:\u001b[0m\u001b[0;34m\u001b[0m\u001b[0;34m\u001b[0m\u001b[0m\n\u001b[0;32m--> 118\u001b[0;31m             \u001b[0mindex\u001b[0m \u001b[0;34m=\u001b[0m \u001b[0m_extract_index\u001b[0m\u001b[0;34m(\u001b[0m\u001b[0marrays\u001b[0m\u001b[0;34m)\u001b[0m\u001b[0;34m\u001b[0m\u001b[0;34m\u001b[0m\u001b[0m\n\u001b[0m\u001b[1;32m    119\u001b[0m         \u001b[0;32melse\u001b[0m\u001b[0;34m:\u001b[0m\u001b[0;34m\u001b[0m\u001b[0;34m\u001b[0m\u001b[0m\n\u001b[1;32m    120\u001b[0m             \u001b[0mindex\u001b[0m \u001b[0;34m=\u001b[0m \u001b[0mensure_index\u001b[0m\u001b[0;34m(\u001b[0m\u001b[0mindex\u001b[0m\u001b[0;34m)\u001b[0m\u001b[0;34m\u001b[0m\u001b[0;34m\u001b[0m\u001b[0m\n",
            "\u001b[0;32m/usr/local/lib/python3.10/dist-packages/pandas/core/internals/construction.py\u001b[0m in \u001b[0;36m_extract_index\u001b[0;34m(data)\u001b[0m\n\u001b[1;32m    664\u001b[0m             \u001b[0mlengths\u001b[0m \u001b[0;34m=\u001b[0m \u001b[0mlist\u001b[0m\u001b[0;34m(\u001b[0m\u001b[0mset\u001b[0m\u001b[0;34m(\u001b[0m\u001b[0mraw_lengths\u001b[0m\u001b[0;34m)\u001b[0m\u001b[0;34m)\u001b[0m\u001b[0;34m\u001b[0m\u001b[0;34m\u001b[0m\u001b[0m\n\u001b[1;32m    665\u001b[0m             \u001b[0;32mif\u001b[0m \u001b[0mlen\u001b[0m\u001b[0;34m(\u001b[0m\u001b[0mlengths\u001b[0m\u001b[0;34m)\u001b[0m \u001b[0;34m>\u001b[0m \u001b[0;36m1\u001b[0m\u001b[0;34m:\u001b[0m\u001b[0;34m\u001b[0m\u001b[0;34m\u001b[0m\u001b[0m\n\u001b[0;32m--> 666\u001b[0;31m                 \u001b[0;32mraise\u001b[0m \u001b[0mValueError\u001b[0m\u001b[0;34m(\u001b[0m\u001b[0;34m\"All arrays must be of the same length\"\u001b[0m\u001b[0;34m)\u001b[0m\u001b[0;34m\u001b[0m\u001b[0;34m\u001b[0m\u001b[0m\n\u001b[0m\u001b[1;32m    667\u001b[0m \u001b[0;34m\u001b[0m\u001b[0m\n\u001b[1;32m    668\u001b[0m             \u001b[0;32mif\u001b[0m \u001b[0mhave_dicts\u001b[0m\u001b[0;34m:\u001b[0m\u001b[0;34m\u001b[0m\u001b[0;34m\u001b[0m\u001b[0m\n",
            "\u001b[0;31mValueError\u001b[0m: All arrays must be of the same length"
          ]
        }
      ]
    },
    {
      "cell_type": "code",
      "source": [
        "earthquake_df['metadata']"
      ],
      "metadata": {
        "colab": {
          "base_uri": "https://localhost:8080/"
        },
        "id": "pFXmcVyUXXUG",
        "outputId": "190ba5b7-8868-4da8-a4a5-f0d43e33afca"
      },
      "execution_count": 20,
      "outputs": [
        {
          "output_type": "execute_result",
          "data": {
            "text/plain": [
              "{'generated': 1695175879000,\n",
              " 'url': 'https://earthquake.usgs.gov/fdsnws/event/1/query?format=geojson&starttime=2023-08-20&endtime=2023-09-19',\n",
              " 'title': 'USGS Earthquakes',\n",
              " 'status': 200,\n",
              " 'api': '1.14.0',\n",
              " 'count': 10371}"
            ]
          },
          "metadata": {},
          "execution_count": 20
        }
      ]
    },
    {
      "cell_type": "code",
      "source": [
        "\n",
        "print(earthquake_df.head())"
      ],
      "metadata": {
        "colab": {
          "base_uri": "https://localhost:8080/",
          "height": 182
        },
        "id": "rYRpWlkqTvo4",
        "outputId": "d7cfd284-8fae-456c-db36-853aae587a2d"
      },
      "execution_count": 30,
      "outputs": [
        {
          "output_type": "error",
          "ename": "AttributeError",
          "evalue": "ignored",
          "traceback": [
            "\u001b[0;31m---------------------------------------------------------------------------\u001b[0m",
            "\u001b[0;31mAttributeError\u001b[0m                            Traceback (most recent call last)",
            "\u001b[0;32m<ipython-input-30-fd829690fe20>\u001b[0m in \u001b[0;36m<cell line: 1>\u001b[0;34m()\u001b[0m\n\u001b[0;32m----> 1\u001b[0;31m \u001b[0mprint\u001b[0m\u001b[0;34m(\u001b[0m\u001b[0mearthquake_df\u001b[0m\u001b[0;34m.\u001b[0m\u001b[0mhead\u001b[0m\u001b[0;34m(\u001b[0m\u001b[0;34m)\u001b[0m\u001b[0;34m)\u001b[0m\u001b[0;34m\u001b[0m\u001b[0;34m\u001b[0m\u001b[0m\n\u001b[0m",
            "\u001b[0;31mAttributeError\u001b[0m: 'dict' object has no attribute 'head'"
          ]
        }
      ]
    },
    {
      "cell_type": "code",
      "source": [
        "arizona_earthquakes = earthquake_df[earthquake_df['location'] == 'Arizona']\n",
        "print(arizona_earthquakes)"
      ],
      "metadata": {
        "id": "dx810YUFUhxY"
      },
      "execution_count": null,
      "outputs": []
    },
    {
      "cell_type": "code",
      "source": [
        "selected_data = earthquake_df.iloc[3:11, [2, 3, 4]]  # Assuming 'mag', 'magType', and 'type' are columns 2, 3, and 4\n",
        "print(selected_data)"
      ],
      "metadata": {
        "id": "yeUqJgbNUmnw"
      },
      "execution_count": null,
      "outputs": []
    },
    {
      "cell_type": "code",
      "source": [
        "top_10_mag = earthquake_df.nlargest(10, 'mag')\n",
        "print(top_10_mag)"
      ],
      "metadata": {
        "id": "VID3Iph9Uo-S"
      },
      "execution_count": null,
      "outputs": []
    },
    {
      "cell_type": "code",
      "source": [
        "mag_series = earthquake_df.pop('mag')\n",
        "magType_series = earthquake_df.pop('magType')"
      ],
      "metadata": {
        "id": "oTzSPWNeUs7l"
      },
      "execution_count": null,
      "outputs": []
    },
    {
      "cell_type": "code",
      "source": [
        "concatenated_df = pd.concat([mag_series, magType_series], axis=1)\n",
        "print(concatenated_df)"
      ],
      "metadata": {
        "id": "Va0uoZWKUvEx"
      },
      "execution_count": null,
      "outputs": []
    },
    {
      "cell_type": "code",
      "source": [
        "earthquake_df.drop('alert', axis=1, inplace=True)  # Assuming 'alert' is the column to be deleted"
      ],
      "metadata": {
        "id": "D_BpuescUxoW"
      },
      "execution_count": null,
      "outputs": []
    },
    {
      "cell_type": "code",
      "execution_count": null,
      "metadata": {
        "id": "shnbnWaoS26k"
      },
      "outputs": [],
      "source": [
        "import pandas as pd\n",
        "\n",
        "df = pd.read_csv('data/earthquakes.csv')"
      ]
    },
    {
      "cell_type": "markdown",
      "metadata": {
        "id": "YmE8dk5YS26l"
      },
      "source": [
        "## Selecting columns\n",
        "Grab an entire column using attribute notation:"
      ]
    },
    {
      "cell_type": "code",
      "execution_count": null,
      "metadata": {
        "id": "T5_Zk9coS26m",
        "outputId": "e88d9ef9-b155-4f55-ba93-1fe1caa78e43"
      },
      "outputs": [
        {
          "data": {
            "text/plain": [
              "0       1.35\n",
              "1       1.29\n",
              "2       3.42\n",
              "3       0.44\n",
              "4       2.16\n",
              "        ... \n",
              "9327    0.62\n",
              "9328    1.00\n",
              "9329    2.40\n",
              "9330    1.10\n",
              "9331    0.66\n",
              "Name: mag, Length: 9332, dtype: float64"
            ]
          },
          "execution_count": 2,
          "metadata": {},
          "output_type": "execute_result"
        }
      ],
      "source": [
        "df.mag"
      ]
    },
    {
      "cell_type": "markdown",
      "metadata": {
        "id": "obmWvTHtS26n"
      },
      "source": [
        "Grab an entire column using dictionary syntax:"
      ]
    },
    {
      "cell_type": "code",
      "execution_count": null,
      "metadata": {
        "id": "qu8XvCftS26n",
        "outputId": "04393705-6e93-4514-df46-a2c3803cf073"
      },
      "outputs": [
        {
          "data": {
            "text/plain": [
              "0       1.35\n",
              "1       1.29\n",
              "2       3.42\n",
              "3       0.44\n",
              "4       2.16\n",
              "        ... \n",
              "9327    0.62\n",
              "9328    1.00\n",
              "9329    2.40\n",
              "9330    1.10\n",
              "9331    0.66\n",
              "Name: mag, Length: 9332, dtype: float64"
            ]
          },
          "execution_count": 3,
          "metadata": {},
          "output_type": "execute_result"
        }
      ],
      "source": [
        "df['mag']"
      ]
    },
    {
      "cell_type": "markdown",
      "metadata": {
        "id": "rroCtxH-S26o"
      },
      "source": [
        "Selecting multiple columns:"
      ]
    },
    {
      "cell_type": "code",
      "execution_count": null,
      "metadata": {
        "id": "Lnz7Iw-TS26o",
        "outputId": "d264b082-b41d-4b3c-acd1-07cc29e587cf"
      },
      "outputs": [
        {
          "data": {
            "text/html": [
              "<div>\n",
              "<style scoped>\n",
              "    .dataframe tbody tr th:only-of-type {\n",
              "        vertical-align: middle;\n",
              "    }\n",
              "\n",
              "    .dataframe tbody tr th {\n",
              "        vertical-align: top;\n",
              "    }\n",
              "\n",
              "    .dataframe thead th {\n",
              "        text-align: right;\n",
              "    }\n",
              "</style>\n",
              "<table border=\"1\" class=\"dataframe\">\n",
              "  <thead>\n",
              "    <tr style=\"text-align: right;\">\n",
              "      <th></th>\n",
              "      <th>mag</th>\n",
              "      <th>title</th>\n",
              "    </tr>\n",
              "  </thead>\n",
              "  <tbody>\n",
              "    <tr>\n",
              "      <th>0</th>\n",
              "      <td>1.35</td>\n",
              "      <td>M 1.4 - 9km NE of Aguanga, CA</td>\n",
              "    </tr>\n",
              "    <tr>\n",
              "      <th>1</th>\n",
              "      <td>1.29</td>\n",
              "      <td>M 1.3 - 9km NE of Aguanga, CA</td>\n",
              "    </tr>\n",
              "    <tr>\n",
              "      <th>2</th>\n",
              "      <td>3.42</td>\n",
              "      <td>M 3.4 - 8km NE of Aguanga, CA</td>\n",
              "    </tr>\n",
              "    <tr>\n",
              "      <th>3</th>\n",
              "      <td>0.44</td>\n",
              "      <td>M 0.4 - 9km NE of Aguanga, CA</td>\n",
              "    </tr>\n",
              "    <tr>\n",
              "      <th>4</th>\n",
              "      <td>2.16</td>\n",
              "      <td>M 2.2 - 10km NW of Avenal, CA</td>\n",
              "    </tr>\n",
              "    <tr>\n",
              "      <th>...</th>\n",
              "      <td>...</td>\n",
              "      <td>...</td>\n",
              "    </tr>\n",
              "    <tr>\n",
              "      <th>9327</th>\n",
              "      <td>0.62</td>\n",
              "      <td>M 0.6 - 9km ENE of Mammoth Lakes, CA</td>\n",
              "    </tr>\n",
              "    <tr>\n",
              "      <th>9328</th>\n",
              "      <td>1.00</td>\n",
              "      <td>M 1.0 - 3km W of Julian, CA</td>\n",
              "    </tr>\n",
              "    <tr>\n",
              "      <th>9329</th>\n",
              "      <td>2.40</td>\n",
              "      <td>M 2.4 - 35km NNE of Hatillo, Puerto Rico</td>\n",
              "    </tr>\n",
              "    <tr>\n",
              "      <th>9330</th>\n",
              "      <td>1.10</td>\n",
              "      <td>M 1.1 - 9km NE of Aguanga, CA</td>\n",
              "    </tr>\n",
              "    <tr>\n",
              "      <th>9331</th>\n",
              "      <td>0.66</td>\n",
              "      <td>M 0.7 - 9km NE of Aguanga, CA</td>\n",
              "    </tr>\n",
              "  </tbody>\n",
              "</table>\n",
              "<p>9332 rows × 2 columns</p>\n",
              "</div>"
            ],
            "text/plain": [
              "       mag                                     title\n",
              "0     1.35             M 1.4 - 9km NE of Aguanga, CA\n",
              "1     1.29             M 1.3 - 9km NE of Aguanga, CA\n",
              "2     3.42             M 3.4 - 8km NE of Aguanga, CA\n",
              "3     0.44             M 0.4 - 9km NE of Aguanga, CA\n",
              "4     2.16             M 2.2 - 10km NW of Avenal, CA\n",
              "...    ...                                       ...\n",
              "9327  0.62      M 0.6 - 9km ENE of Mammoth Lakes, CA\n",
              "9328  1.00               M 1.0 - 3km W of Julian, CA\n",
              "9329  2.40  M 2.4 - 35km NNE of Hatillo, Puerto Rico\n",
              "9330  1.10             M 1.1 - 9km NE of Aguanga, CA\n",
              "9331  0.66             M 0.7 - 9km NE of Aguanga, CA\n",
              "\n",
              "[9332 rows x 2 columns]"
            ]
          },
          "execution_count": 4,
          "metadata": {},
          "output_type": "execute_result"
        }
      ],
      "source": [
        "df[['mag', 'title']]"
      ]
    },
    {
      "cell_type": "markdown",
      "metadata": {
        "id": "qcLZ7rKkS26o"
      },
      "source": [
        "Selecting columns using list comprehensions and string operations:"
      ]
    },
    {
      "cell_type": "code",
      "execution_count": null,
      "metadata": {
        "id": "klrpKaW_S26o",
        "outputId": "5b5c1379-fa91-485f-9df0-39e3dbaae13e"
      },
      "outputs": [
        {
          "data": {
            "text/html": [
              "<div>\n",
              "<style scoped>\n",
              "    .dataframe tbody tr th:only-of-type {\n",
              "        vertical-align: middle;\n",
              "    }\n",
              "\n",
              "    .dataframe tbody tr th {\n",
              "        vertical-align: top;\n",
              "    }\n",
              "\n",
              "    .dataframe thead th {\n",
              "        text-align: right;\n",
              "    }\n",
              "</style>\n",
              "<table border=\"1\" class=\"dataframe\">\n",
              "  <thead>\n",
              "    <tr style=\"text-align: right;\">\n",
              "      <th></th>\n",
              "      <th>title</th>\n",
              "      <th>time</th>\n",
              "      <th>mag</th>\n",
              "      <th>magType</th>\n",
              "    </tr>\n",
              "  </thead>\n",
              "  <tbody>\n",
              "    <tr>\n",
              "      <th>0</th>\n",
              "      <td>M 1.4 - 9km NE of Aguanga, CA</td>\n",
              "      <td>1539475168010</td>\n",
              "      <td>1.35</td>\n",
              "      <td>ml</td>\n",
              "    </tr>\n",
              "    <tr>\n",
              "      <th>1</th>\n",
              "      <td>M 1.3 - 9km NE of Aguanga, CA</td>\n",
              "      <td>1539475129610</td>\n",
              "      <td>1.29</td>\n",
              "      <td>ml</td>\n",
              "    </tr>\n",
              "    <tr>\n",
              "      <th>2</th>\n",
              "      <td>M 3.4 - 8km NE of Aguanga, CA</td>\n",
              "      <td>1539475062610</td>\n",
              "      <td>3.42</td>\n",
              "      <td>ml</td>\n",
              "    </tr>\n",
              "    <tr>\n",
              "      <th>3</th>\n",
              "      <td>M 0.4 - 9km NE of Aguanga, CA</td>\n",
              "      <td>1539474978070</td>\n",
              "      <td>0.44</td>\n",
              "      <td>ml</td>\n",
              "    </tr>\n",
              "    <tr>\n",
              "      <th>4</th>\n",
              "      <td>M 2.2 - 10km NW of Avenal, CA</td>\n",
              "      <td>1539474716050</td>\n",
              "      <td>2.16</td>\n",
              "      <td>md</td>\n",
              "    </tr>\n",
              "    <tr>\n",
              "      <th>...</th>\n",
              "      <td>...</td>\n",
              "      <td>...</td>\n",
              "      <td>...</td>\n",
              "      <td>...</td>\n",
              "    </tr>\n",
              "    <tr>\n",
              "      <th>9327</th>\n",
              "      <td>M 0.6 - 9km ENE of Mammoth Lakes, CA</td>\n",
              "      <td>1537230228060</td>\n",
              "      <td>0.62</td>\n",
              "      <td>md</td>\n",
              "    </tr>\n",
              "    <tr>\n",
              "      <th>9328</th>\n",
              "      <td>M 1.0 - 3km W of Julian, CA</td>\n",
              "      <td>1537230135130</td>\n",
              "      <td>1.00</td>\n",
              "      <td>ml</td>\n",
              "    </tr>\n",
              "    <tr>\n",
              "      <th>9329</th>\n",
              "      <td>M 2.4 - 35km NNE of Hatillo, Puerto Rico</td>\n",
              "      <td>1537229908180</td>\n",
              "      <td>2.40</td>\n",
              "      <td>md</td>\n",
              "    </tr>\n",
              "    <tr>\n",
              "      <th>9330</th>\n",
              "      <td>M 1.1 - 9km NE of Aguanga, CA</td>\n",
              "      <td>1537229545350</td>\n",
              "      <td>1.10</td>\n",
              "      <td>ml</td>\n",
              "    </tr>\n",
              "    <tr>\n",
              "      <th>9331</th>\n",
              "      <td>M 0.7 - 9km NE of Aguanga, CA</td>\n",
              "      <td>1537228864470</td>\n",
              "      <td>0.66</td>\n",
              "      <td>ml</td>\n",
              "    </tr>\n",
              "  </tbody>\n",
              "</table>\n",
              "<p>9332 rows × 4 columns</p>\n",
              "</div>"
            ],
            "text/plain": [
              "                                         title           time   mag magType\n",
              "0                M 1.4 - 9km NE of Aguanga, CA  1539475168010  1.35      ml\n",
              "1                M 1.3 - 9km NE of Aguanga, CA  1539475129610  1.29      ml\n",
              "2                M 3.4 - 8km NE of Aguanga, CA  1539475062610  3.42      ml\n",
              "3                M 0.4 - 9km NE of Aguanga, CA  1539474978070  0.44      ml\n",
              "4                M 2.2 - 10km NW of Avenal, CA  1539474716050  2.16      md\n",
              "...                                        ...            ...   ...     ...\n",
              "9327      M 0.6 - 9km ENE of Mammoth Lakes, CA  1537230228060  0.62      md\n",
              "9328               M 1.0 - 3km W of Julian, CA  1537230135130  1.00      ml\n",
              "9329  M 2.4 - 35km NNE of Hatillo, Puerto Rico  1537229908180  2.40      md\n",
              "9330             M 1.1 - 9km NE of Aguanga, CA  1537229545350  1.10      ml\n",
              "9331             M 0.7 - 9km NE of Aguanga, CA  1537228864470  0.66      ml\n",
              "\n",
              "[9332 rows x 4 columns]"
            ]
          },
          "execution_count": 5,
          "metadata": {},
          "output_type": "execute_result"
        }
      ],
      "source": [
        "df[\n",
        "    ['title', 'time']\n",
        "    + [col for col in df.columns if col.startswith('mag')]\n",
        "]"
      ]
    },
    {
      "cell_type": "markdown",
      "metadata": {
        "id": "WQAYpHjkS26p"
      },
      "source": [
        "Breaking down this example:\n",
        "1. the list comprehension"
      ]
    },
    {
      "cell_type": "code",
      "execution_count": null,
      "metadata": {
        "id": "vsMB-SbsS26p",
        "outputId": "b68c1e18-ee27-4801-99a3-ce6807693b80"
      },
      "outputs": [
        {
          "data": {
            "text/plain": [
              "['mag', 'magType']"
            ]
          },
          "execution_count": 6,
          "metadata": {},
          "output_type": "execute_result"
        }
      ],
      "source": [
        "[col for col in df.columns if col.startswith('mag')]"
      ]
    },
    {
      "cell_type": "markdown",
      "metadata": {
        "id": "8co_dpDwS26q"
      },
      "source": [
        "2. assembling the list"
      ]
    },
    {
      "cell_type": "code",
      "execution_count": null,
      "metadata": {
        "id": "1uTf459uS26q",
        "outputId": "b21b379c-fa91-478b-ba64-ecc19d2f9a23"
      },
      "outputs": [
        {
          "data": {
            "text/plain": [
              "['title', 'time', 'mag', 'magType']"
            ]
          },
          "execution_count": 7,
          "metadata": {},
          "output_type": "execute_result"
        }
      ],
      "source": [
        "['title', 'time'] \\\n",
        "+ [col for col in df.columns if col.startswith('mag')]"
      ]
    },
    {
      "cell_type": "markdown",
      "metadata": {
        "id": "R4Co2SufS26q"
      },
      "source": [
        "3. using this list as the list of columns"
      ]
    },
    {
      "cell_type": "code",
      "execution_count": null,
      "metadata": {
        "id": "551mn1lgS26q",
        "outputId": "cd839783-a661-4efa-d5bd-b2c403fd367a"
      },
      "outputs": [
        {
          "data": {
            "text/html": [
              "<div>\n",
              "<style scoped>\n",
              "    .dataframe tbody tr th:only-of-type {\n",
              "        vertical-align: middle;\n",
              "    }\n",
              "\n",
              "    .dataframe tbody tr th {\n",
              "        vertical-align: top;\n",
              "    }\n",
              "\n",
              "    .dataframe thead th {\n",
              "        text-align: right;\n",
              "    }\n",
              "</style>\n",
              "<table border=\"1\" class=\"dataframe\">\n",
              "  <thead>\n",
              "    <tr style=\"text-align: right;\">\n",
              "      <th></th>\n",
              "      <th>title</th>\n",
              "      <th>time</th>\n",
              "      <th>mag</th>\n",
              "      <th>magType</th>\n",
              "    </tr>\n",
              "  </thead>\n",
              "  <tbody>\n",
              "    <tr>\n",
              "      <th>0</th>\n",
              "      <td>M 1.4 - 9km NE of Aguanga, CA</td>\n",
              "      <td>1539475168010</td>\n",
              "      <td>1.35</td>\n",
              "      <td>ml</td>\n",
              "    </tr>\n",
              "    <tr>\n",
              "      <th>1</th>\n",
              "      <td>M 1.3 - 9km NE of Aguanga, CA</td>\n",
              "      <td>1539475129610</td>\n",
              "      <td>1.29</td>\n",
              "      <td>ml</td>\n",
              "    </tr>\n",
              "    <tr>\n",
              "      <th>2</th>\n",
              "      <td>M 3.4 - 8km NE of Aguanga, CA</td>\n",
              "      <td>1539475062610</td>\n",
              "      <td>3.42</td>\n",
              "      <td>ml</td>\n",
              "    </tr>\n",
              "    <tr>\n",
              "      <th>3</th>\n",
              "      <td>M 0.4 - 9km NE of Aguanga, CA</td>\n",
              "      <td>1539474978070</td>\n",
              "      <td>0.44</td>\n",
              "      <td>ml</td>\n",
              "    </tr>\n",
              "    <tr>\n",
              "      <th>4</th>\n",
              "      <td>M 2.2 - 10km NW of Avenal, CA</td>\n",
              "      <td>1539474716050</td>\n",
              "      <td>2.16</td>\n",
              "      <td>md</td>\n",
              "    </tr>\n",
              "    <tr>\n",
              "      <th>...</th>\n",
              "      <td>...</td>\n",
              "      <td>...</td>\n",
              "      <td>...</td>\n",
              "      <td>...</td>\n",
              "    </tr>\n",
              "    <tr>\n",
              "      <th>9327</th>\n",
              "      <td>M 0.6 - 9km ENE of Mammoth Lakes, CA</td>\n",
              "      <td>1537230228060</td>\n",
              "      <td>0.62</td>\n",
              "      <td>md</td>\n",
              "    </tr>\n",
              "    <tr>\n",
              "      <th>9328</th>\n",
              "      <td>M 1.0 - 3km W of Julian, CA</td>\n",
              "      <td>1537230135130</td>\n",
              "      <td>1.00</td>\n",
              "      <td>ml</td>\n",
              "    </tr>\n",
              "    <tr>\n",
              "      <th>9329</th>\n",
              "      <td>M 2.4 - 35km NNE of Hatillo, Puerto Rico</td>\n",
              "      <td>1537229908180</td>\n",
              "      <td>2.40</td>\n",
              "      <td>md</td>\n",
              "    </tr>\n",
              "    <tr>\n",
              "      <th>9330</th>\n",
              "      <td>M 1.1 - 9km NE of Aguanga, CA</td>\n",
              "      <td>1537229545350</td>\n",
              "      <td>1.10</td>\n",
              "      <td>ml</td>\n",
              "    </tr>\n",
              "    <tr>\n",
              "      <th>9331</th>\n",
              "      <td>M 0.7 - 9km NE of Aguanga, CA</td>\n",
              "      <td>1537228864470</td>\n",
              "      <td>0.66</td>\n",
              "      <td>ml</td>\n",
              "    </tr>\n",
              "  </tbody>\n",
              "</table>\n",
              "<p>9332 rows × 4 columns</p>\n",
              "</div>"
            ],
            "text/plain": [
              "                                         title           time   mag magType\n",
              "0                M 1.4 - 9km NE of Aguanga, CA  1539475168010  1.35      ml\n",
              "1                M 1.3 - 9km NE of Aguanga, CA  1539475129610  1.29      ml\n",
              "2                M 3.4 - 8km NE of Aguanga, CA  1539475062610  3.42      ml\n",
              "3                M 0.4 - 9km NE of Aguanga, CA  1539474978070  0.44      ml\n",
              "4                M 2.2 - 10km NW of Avenal, CA  1539474716050  2.16      md\n",
              "...                                        ...            ...   ...     ...\n",
              "9327      M 0.6 - 9km ENE of Mammoth Lakes, CA  1537230228060  0.62      md\n",
              "9328               M 1.0 - 3km W of Julian, CA  1537230135130  1.00      ml\n",
              "9329  M 2.4 - 35km NNE of Hatillo, Puerto Rico  1537229908180  2.40      md\n",
              "9330             M 1.1 - 9km NE of Aguanga, CA  1537229545350  1.10      ml\n",
              "9331             M 0.7 - 9km NE of Aguanga, CA  1537228864470  0.66      ml\n",
              "\n",
              "[9332 rows x 4 columns]"
            ]
          },
          "execution_count": 8,
          "metadata": {},
          "output_type": "execute_result"
        }
      ],
      "source": [
        "df[\n",
        "    ['title', 'time']\n",
        "    + [col for col in df.columns if col.startswith('mag')]\n",
        "]"
      ]
    },
    {
      "cell_type": "markdown",
      "metadata": {
        "id": "r0SCbMdvS26r"
      },
      "source": [
        "## Slicing\n",
        "### Selecting rows\n",
        "Using row numbers (inclusive of first index, exclusive of last):"
      ]
    },
    {
      "cell_type": "code",
      "execution_count": null,
      "metadata": {
        "id": "Pn7vRkPNS26r",
        "outputId": "dd0677c1-5105-477d-ee4c-d1d6a255f52f"
      },
      "outputs": [
        {
          "data": {
            "text/html": [
              "<div>\n",
              "<style scoped>\n",
              "    .dataframe tbody tr th:only-of-type {\n",
              "        vertical-align: middle;\n",
              "    }\n",
              "\n",
              "    .dataframe tbody tr th {\n",
              "        vertical-align: top;\n",
              "    }\n",
              "\n",
              "    .dataframe thead th {\n",
              "        text-align: right;\n",
              "    }\n",
              "</style>\n",
              "<table border=\"1\" class=\"dataframe\">\n",
              "  <thead>\n",
              "    <tr style=\"text-align: right;\">\n",
              "      <th></th>\n",
              "      <th>alert</th>\n",
              "      <th>cdi</th>\n",
              "      <th>code</th>\n",
              "      <th>detail</th>\n",
              "      <th>dmin</th>\n",
              "      <th>felt</th>\n",
              "      <th>gap</th>\n",
              "      <th>ids</th>\n",
              "      <th>mag</th>\n",
              "      <th>magType</th>\n",
              "      <th>...</th>\n",
              "      <th>sources</th>\n",
              "      <th>status</th>\n",
              "      <th>time</th>\n",
              "      <th>title</th>\n",
              "      <th>tsunami</th>\n",
              "      <th>type</th>\n",
              "      <th>types</th>\n",
              "      <th>tz</th>\n",
              "      <th>updated</th>\n",
              "      <th>url</th>\n",
              "    </tr>\n",
              "  </thead>\n",
              "  <tbody>\n",
              "    <tr>\n",
              "      <th>100</th>\n",
              "      <td>NaN</td>\n",
              "      <td>NaN</td>\n",
              "      <td>20280310</td>\n",
              "      <td>https://earthquake.usgs.gov/fdsnws/event/1/que...</td>\n",
              "      <td>NaN</td>\n",
              "      <td>NaN</td>\n",
              "      <td>NaN</td>\n",
              "      <td>,ak20280310,</td>\n",
              "      <td>1.20</td>\n",
              "      <td>ml</td>\n",
              "      <td>...</td>\n",
              "      <td>,ak,</td>\n",
              "      <td>automatic</td>\n",
              "      <td>1539435449480</td>\n",
              "      <td>M 1.2 - 25km NW of Ester, Alaska</td>\n",
              "      <td>0</td>\n",
              "      <td>earthquake</td>\n",
              "      <td>,geoserve,origin,</td>\n",
              "      <td>-540.0</td>\n",
              "      <td>1539443551010</td>\n",
              "      <td>https://earthquake.usgs.gov/earthquakes/eventp...</td>\n",
              "    </tr>\n",
              "    <tr>\n",
              "      <th>101</th>\n",
              "      <td>NaN</td>\n",
              "      <td>NaN</td>\n",
              "      <td>73096756</td>\n",
              "      <td>https://earthquake.usgs.gov/fdsnws/event/1/que...</td>\n",
              "      <td>0.01355</td>\n",
              "      <td>NaN</td>\n",
              "      <td>185.0</td>\n",
              "      <td>,nc73096756,</td>\n",
              "      <td>0.59</td>\n",
              "      <td>md</td>\n",
              "      <td>...</td>\n",
              "      <td>,nc,</td>\n",
              "      <td>automatic</td>\n",
              "      <td>1539435391320</td>\n",
              "      <td>M 0.6 - 8km ESE of Mammoth Lakes, CA</td>\n",
              "      <td>0</td>\n",
              "      <td>earthquake</td>\n",
              "      <td>,geoserve,nearby-cities,origin,phase-data,scit...</td>\n",
              "      <td>-480.0</td>\n",
              "      <td>1539439802162</td>\n",
              "      <td>https://earthquake.usgs.gov/earthquakes/eventp...</td>\n",
              "    </tr>\n",
              "    <tr>\n",
              "      <th>102</th>\n",
              "      <td>NaN</td>\n",
              "      <td>NaN</td>\n",
              "      <td>37388730</td>\n",
              "      <td>https://earthquake.usgs.gov/fdsnws/event/1/que...</td>\n",
              "      <td>0.02987</td>\n",
              "      <td>NaN</td>\n",
              "      <td>39.0</td>\n",
              "      <td>,ci37388730,</td>\n",
              "      <td>1.33</td>\n",
              "      <td>ml</td>\n",
              "      <td>...</td>\n",
              "      <td>,ci,</td>\n",
              "      <td>automatic</td>\n",
              "      <td>1539435293090</td>\n",
              "      <td>M 1.3 - 8km ENE of Aguanga, CA</td>\n",
              "      <td>0</td>\n",
              "      <td>earthquake</td>\n",
              "      <td>,focal-mechanism,geoserve,nearby-cities,origin...</td>\n",
              "      <td>-480.0</td>\n",
              "      <td>1539435940470</td>\n",
              "      <td>https://earthquake.usgs.gov/earthquakes/eventp...</td>\n",
              "    </tr>\n",
              "  </tbody>\n",
              "</table>\n",
              "<p>3 rows × 26 columns</p>\n",
              "</div>"
            ],
            "text/plain": [
              "    alert  cdi      code                                             detail  \\\n",
              "100   NaN  NaN  20280310  https://earthquake.usgs.gov/fdsnws/event/1/que...   \n",
              "101   NaN  NaN  73096756  https://earthquake.usgs.gov/fdsnws/event/1/que...   \n",
              "102   NaN  NaN  37388730  https://earthquake.usgs.gov/fdsnws/event/1/que...   \n",
              "\n",
              "        dmin  felt    gap           ids   mag magType  ...  sources  \\\n",
              "100      NaN   NaN    NaN  ,ak20280310,  1.20      ml  ...     ,ak,   \n",
              "101  0.01355   NaN  185.0  ,nc73096756,  0.59      md  ...     ,nc,   \n",
              "102  0.02987   NaN   39.0  ,ci37388730,  1.33      ml  ...     ,ci,   \n",
              "\n",
              "        status           time                                 title  tsunami  \\\n",
              "100  automatic  1539435449480      M 1.2 - 25km NW of Ester, Alaska        0   \n",
              "101  automatic  1539435391320  M 0.6 - 8km ESE of Mammoth Lakes, CA        0   \n",
              "102  automatic  1539435293090        M 1.3 - 8km ENE of Aguanga, CA        0   \n",
              "\n",
              "           type                                              types     tz  \\\n",
              "100  earthquake                                  ,geoserve,origin, -540.0   \n",
              "101  earthquake  ,geoserve,nearby-cities,origin,phase-data,scit... -480.0   \n",
              "102  earthquake  ,focal-mechanism,geoserve,nearby-cities,origin... -480.0   \n",
              "\n",
              "           updated                                                url  \n",
              "100  1539443551010  https://earthquake.usgs.gov/earthquakes/eventp...  \n",
              "101  1539439802162  https://earthquake.usgs.gov/earthquakes/eventp...  \n",
              "102  1539435940470  https://earthquake.usgs.gov/earthquakes/eventp...  \n",
              "\n",
              "[3 rows x 26 columns]"
            ]
          },
          "execution_count": 9,
          "metadata": {},
          "output_type": "execute_result"
        }
      ],
      "source": [
        "df[100:103]"
      ]
    },
    {
      "cell_type": "markdown",
      "metadata": {
        "id": "V4Mo6DPES26r"
      },
      "source": [
        "### Selecting rows and columns with chaining"
      ]
    },
    {
      "cell_type": "code",
      "execution_count": null,
      "metadata": {
        "id": "tPHhGXDoS26s",
        "outputId": "bde8172b-7c3e-4174-f5e9-697cd3ab65f4"
      },
      "outputs": [
        {
          "data": {
            "text/html": [
              "<div>\n",
              "<style scoped>\n",
              "    .dataframe tbody tr th:only-of-type {\n",
              "        vertical-align: middle;\n",
              "    }\n",
              "\n",
              "    .dataframe tbody tr th {\n",
              "        vertical-align: top;\n",
              "    }\n",
              "\n",
              "    .dataframe thead th {\n",
              "        text-align: right;\n",
              "    }\n",
              "</style>\n",
              "<table border=\"1\" class=\"dataframe\">\n",
              "  <thead>\n",
              "    <tr style=\"text-align: right;\">\n",
              "      <th></th>\n",
              "      <th>title</th>\n",
              "      <th>time</th>\n",
              "    </tr>\n",
              "  </thead>\n",
              "  <tbody>\n",
              "    <tr>\n",
              "      <th>100</th>\n",
              "      <td>M 1.2 - 25km NW of Ester, Alaska</td>\n",
              "      <td>1539435449480</td>\n",
              "    </tr>\n",
              "    <tr>\n",
              "      <th>101</th>\n",
              "      <td>M 0.6 - 8km ESE of Mammoth Lakes, CA</td>\n",
              "      <td>1539435391320</td>\n",
              "    </tr>\n",
              "    <tr>\n",
              "      <th>102</th>\n",
              "      <td>M 1.3 - 8km ENE of Aguanga, CA</td>\n",
              "      <td>1539435293090</td>\n",
              "    </tr>\n",
              "  </tbody>\n",
              "</table>\n",
              "</div>"
            ],
            "text/plain": [
              "                                    title           time\n",
              "100      M 1.2 - 25km NW of Ester, Alaska  1539435449480\n",
              "101  M 0.6 - 8km ESE of Mammoth Lakes, CA  1539435391320\n",
              "102        M 1.3 - 8km ENE of Aguanga, CA  1539435293090"
            ]
          },
          "execution_count": 10,
          "metadata": {},
          "output_type": "execute_result"
        }
      ],
      "source": [
        "df[['title', 'time']][100:103]"
      ]
    },
    {
      "cell_type": "markdown",
      "metadata": {
        "id": "f36b2rzZS26s"
      },
      "source": [
        "Order doesn't matter here:"
      ]
    },
    {
      "cell_type": "code",
      "execution_count": null,
      "metadata": {
        "id": "XH87OE0gS26s",
        "outputId": "829c4d92-78ba-4c78-8090-0e843d7ad5bb"
      },
      "outputs": [
        {
          "data": {
            "text/plain": [
              "True"
            ]
          },
          "execution_count": 11,
          "metadata": {},
          "output_type": "execute_result"
        }
      ],
      "source": [
        "df[100:103][['title', 'time']].equals(\n",
        "    df[['title', 'time']][100:103]\n",
        ")"
      ]
    },
    {
      "cell_type": "markdown",
      "metadata": {
        "id": "K6j90Ed2S26t"
      },
      "source": [
        "So we know how to select rows and columns, but can we update values? Well, if we try using what we have learned so far, we will see the following warning:"
      ]
    },
    {
      "cell_type": "code",
      "execution_count": null,
      "metadata": {
        "id": "NJXlbcMOS26t",
        "outputId": "d42bdd5c-e54f-4d7b-9285-d8f3f0658dab"
      },
      "outputs": [
        {
          "name": "stderr",
          "output_type": "stream",
          "text": [
            "/home/stefaniemolin/book_env/lib/python3.7/site-packages/ipykernel_launcher.py:1: SettingWithCopyWarning: \n",
            "A value is trying to be set on a copy of a slice from a DataFrame.\n",
            "Try using .loc[row_indexer,col_indexer] = value instead\n",
            "\n",
            "See the caveats in the documentation: https://pandas.pydata.org/pandas-docs/stable/user_guide/indexing.html#returning-a-view-versus-a-copy\n",
            "  \"\"\"Entry point for launching an IPython kernel.\n"
          ]
        }
      ],
      "source": [
        "df[110:113]['title'] = df[110:113]['title'].str.lower()"
      ]
    },
    {
      "cell_type": "markdown",
      "metadata": {
        "id": "ZwDDSM0aS26t"
      },
      "source": [
        "Note that it worked here, but `pandas` says we were setting a value on a copy of a slice and that we should use `loc` instead (topic of the following section):"
      ]
    },
    {
      "cell_type": "code",
      "execution_count": null,
      "metadata": {
        "id": "x_dl35FgS26t",
        "outputId": "b778e985-0774-40b7-c1f3-6e06cb74e490"
      },
      "outputs": [
        {
          "data": {
            "text/plain": [
              "110               m 1.1 - 35km s of ester, alaska\n",
              "111    m 1.9 - 93km wnw of arctic village, alaska\n",
              "112      m 0.9 - 20km wsw of smith valley, nevada\n",
              "Name: title, dtype: object"
            ]
          },
          "execution_count": 13,
          "metadata": {},
          "output_type": "execute_result"
        }
      ],
      "source": [
        "df[110:113]['title']"
      ]
    },
    {
      "cell_type": "markdown",
      "metadata": {
        "id": "6uAVe0G7S26u"
      },
      "source": [
        "## Indexing\n",
        "\n",
        "Now if we do this with `loc` as the warning suggests, everything goes smoothly. Note we have to lower the end index by one since `loc` is inclusive of endpoints:"
      ]
    },
    {
      "cell_type": "code",
      "execution_count": null,
      "metadata": {
        "id": "jUeSH60MS26u",
        "outputId": "1bac2293-7fa4-4ef7-e389-a90c749d1016"
      },
      "outputs": [
        {
          "data": {
            "text/plain": [
              "110               m 1.1 - 35km s of ester, alaska\n",
              "111    m 1.9 - 93km wnw of arctic village, alaska\n",
              "112      m 0.9 - 20km wsw of smith valley, nevada\n",
              "Name: title, dtype: object"
            ]
          },
          "execution_count": 14,
          "metadata": {},
          "output_type": "execute_result"
        }
      ],
      "source": [
        "df.loc[110:112, 'title'] = df.loc[110:112, 'title'].str.lower()\n",
        "df.loc[110:112, 'title']"
      ]
    },
    {
      "cell_type": "markdown",
      "metadata": {
        "id": "Fhd_r3EpS26u"
      },
      "source": [
        "### Indexing with `loc`\n",
        "Selection of the format `loc[row_indexer, column_indexer]` where `:` can be used to select all:"
      ]
    },
    {
      "cell_type": "code",
      "execution_count": null,
      "metadata": {
        "id": "D2cISbPgS26u",
        "outputId": "d6b15f8f-469f-4695-f3a9-bab2cb7b9cdd"
      },
      "outputs": [
        {
          "data": {
            "text/plain": [
              "0                  M 1.4 - 9km NE of Aguanga, CA\n",
              "1                  M 1.3 - 9km NE of Aguanga, CA\n",
              "2                  M 3.4 - 8km NE of Aguanga, CA\n",
              "3                  M 0.4 - 9km NE of Aguanga, CA\n",
              "4                  M 2.2 - 10km NW of Avenal, CA\n",
              "                          ...                   \n",
              "9327        M 0.6 - 9km ENE of Mammoth Lakes, CA\n",
              "9328                 M 1.0 - 3km W of Julian, CA\n",
              "9329    M 2.4 - 35km NNE of Hatillo, Puerto Rico\n",
              "9330               M 1.1 - 9km NE of Aguanga, CA\n",
              "9331               M 0.7 - 9km NE of Aguanga, CA\n",
              "Name: title, Length: 9332, dtype: object"
            ]
          },
          "execution_count": 15,
          "metadata": {},
          "output_type": "execute_result"
        }
      ],
      "source": [
        "df.loc[:,'title']"
      ]
    },
    {
      "cell_type": "markdown",
      "metadata": {
        "id": "g0QJcAcBS26u"
      },
      "source": [
        "We can use `loc` to select specific rows and columns without chaining. If we use row numbers with `loc`, they are now **inclusive** of the end index:"
      ]
    },
    {
      "cell_type": "code",
      "execution_count": null,
      "metadata": {
        "id": "9zDVjiaqS26v",
        "outputId": "727103a5-aa0f-4c6e-f6a3-57fd00d91b04"
      },
      "outputs": [
        {
          "data": {
            "text/html": [
              "<div>\n",
              "<style scoped>\n",
              "    .dataframe tbody tr th:only-of-type {\n",
              "        vertical-align: middle;\n",
              "    }\n",
              "\n",
              "    .dataframe tbody tr th {\n",
              "        vertical-align: top;\n",
              "    }\n",
              "\n",
              "    .dataframe thead th {\n",
              "        text-align: right;\n",
              "    }\n",
              "</style>\n",
              "<table border=\"1\" class=\"dataframe\">\n",
              "  <thead>\n",
              "    <tr style=\"text-align: right;\">\n",
              "      <th></th>\n",
              "      <th>title</th>\n",
              "      <th>mag</th>\n",
              "    </tr>\n",
              "  </thead>\n",
              "  <tbody>\n",
              "    <tr>\n",
              "      <th>10</th>\n",
              "      <td>M 0.5 - 10km NE of Aguanga, CA</td>\n",
              "      <td>0.50</td>\n",
              "    </tr>\n",
              "    <tr>\n",
              "      <th>11</th>\n",
              "      <td>M 2.8 - 53km SE of Punta Cana, Dominican Republic</td>\n",
              "      <td>2.77</td>\n",
              "    </tr>\n",
              "    <tr>\n",
              "      <th>12</th>\n",
              "      <td>M 0.5 - 9km NE of Aguanga, CA</td>\n",
              "      <td>0.50</td>\n",
              "    </tr>\n",
              "    <tr>\n",
              "      <th>13</th>\n",
              "      <td>M 4.5 - 120km SSW of Banda Aceh, Indonesia</td>\n",
              "      <td>4.50</td>\n",
              "    </tr>\n",
              "    <tr>\n",
              "      <th>14</th>\n",
              "      <td>M 2.1 - 14km NW of Parkfield, CA</td>\n",
              "      <td>2.13</td>\n",
              "    </tr>\n",
              "    <tr>\n",
              "      <th>15</th>\n",
              "      <td>M 2.0 - 156km WNW of Haines Junction, Canada</td>\n",
              "      <td>2.00</td>\n",
              "    </tr>\n",
              "  </tbody>\n",
              "</table>\n",
              "</div>"
            ],
            "text/plain": [
              "                                                title   mag\n",
              "10                     M 0.5 - 10km NE of Aguanga, CA  0.50\n",
              "11  M 2.8 - 53km SE of Punta Cana, Dominican Republic  2.77\n",
              "12                      M 0.5 - 9km NE of Aguanga, CA  0.50\n",
              "13         M 4.5 - 120km SSW of Banda Aceh, Indonesia  4.50\n",
              "14                   M 2.1 - 14km NW of Parkfield, CA  2.13\n",
              "15       M 2.0 - 156km WNW of Haines Junction, Canada  2.00"
            ]
          },
          "execution_count": 16,
          "metadata": {},
          "output_type": "execute_result"
        }
      ],
      "source": [
        "df.loc[10:15, ['title', 'mag']]"
      ]
    },
    {
      "cell_type": "markdown",
      "metadata": {
        "id": "Sb0r1hlZS26v"
      },
      "source": [
        "#### Indexing with `iloc`\n",
        "Exclusive of the endpoint just as Python slicing:"
      ]
    },
    {
      "cell_type": "code",
      "execution_count": null,
      "metadata": {
        "id": "d-la0ojMS26v",
        "outputId": "64b051c9-d993-4a63-f379-ac100f6569de"
      },
      "outputs": [
        {
          "data": {
            "text/html": [
              "<div>\n",
              "<style scoped>\n",
              "    .dataframe tbody tr th:only-of-type {\n",
              "        vertical-align: middle;\n",
              "    }\n",
              "\n",
              "    .dataframe tbody tr th {\n",
              "        vertical-align: top;\n",
              "    }\n",
              "\n",
              "    .dataframe thead th {\n",
              "        text-align: right;\n",
              "    }\n",
              "</style>\n",
              "<table border=\"1\" class=\"dataframe\">\n",
              "  <thead>\n",
              "    <tr style=\"text-align: right;\">\n",
              "      <th></th>\n",
              "      <th>title</th>\n",
              "      <th>mag</th>\n",
              "    </tr>\n",
              "  </thead>\n",
              "  <tbody>\n",
              "    <tr>\n",
              "      <th>10</th>\n",
              "      <td>M 0.5 - 10km NE of Aguanga, CA</td>\n",
              "      <td>0.50</td>\n",
              "    </tr>\n",
              "    <tr>\n",
              "      <th>11</th>\n",
              "      <td>M 2.8 - 53km SE of Punta Cana, Dominican Republic</td>\n",
              "      <td>2.77</td>\n",
              "    </tr>\n",
              "    <tr>\n",
              "      <th>12</th>\n",
              "      <td>M 0.5 - 9km NE of Aguanga, CA</td>\n",
              "      <td>0.50</td>\n",
              "    </tr>\n",
              "    <tr>\n",
              "      <th>13</th>\n",
              "      <td>M 4.5 - 120km SSW of Banda Aceh, Indonesia</td>\n",
              "      <td>4.50</td>\n",
              "    </tr>\n",
              "    <tr>\n",
              "      <th>14</th>\n",
              "      <td>M 2.1 - 14km NW of Parkfield, CA</td>\n",
              "      <td>2.13</td>\n",
              "    </tr>\n",
              "  </tbody>\n",
              "</table>\n",
              "</div>"
            ],
            "text/plain": [
              "                                                title   mag\n",
              "10                     M 0.5 - 10km NE of Aguanga, CA  0.50\n",
              "11  M 2.8 - 53km SE of Punta Cana, Dominican Republic  2.77\n",
              "12                      M 0.5 - 9km NE of Aguanga, CA  0.50\n",
              "13         M 4.5 - 120km SSW of Banda Aceh, Indonesia  4.50\n",
              "14                   M 2.1 - 14km NW of Parkfield, CA  2.13"
            ]
          },
          "execution_count": 17,
          "metadata": {},
          "output_type": "execute_result"
        }
      ],
      "source": [
        "df.iloc[10:15, [19, 8]]"
      ]
    },
    {
      "cell_type": "markdown",
      "metadata": {
        "id": "2RadXjT8S26v"
      },
      "source": [
        "We can use slicing syntax with `iloc` for both rows and columns:"
      ]
    },
    {
      "cell_type": "code",
      "execution_count": null,
      "metadata": {
        "id": "rO5bbYJZS26w",
        "outputId": "f18c5e63-f706-46c1-cc3d-04d2a24bffe3"
      },
      "outputs": [
        {
          "data": {
            "text/html": [
              "<div>\n",
              "<style scoped>\n",
              "    .dataframe tbody tr th:only-of-type {\n",
              "        vertical-align: middle;\n",
              "    }\n",
              "\n",
              "    .dataframe tbody tr th {\n",
              "        vertical-align: top;\n",
              "    }\n",
              "\n",
              "    .dataframe thead th {\n",
              "        text-align: right;\n",
              "    }\n",
              "</style>\n",
              "<table border=\"1\" class=\"dataframe\">\n",
              "  <thead>\n",
              "    <tr style=\"text-align: right;\">\n",
              "      <th></th>\n",
              "      <th>gap</th>\n",
              "      <th>ids</th>\n",
              "      <th>mag</th>\n",
              "      <th>magType</th>\n",
              "    </tr>\n",
              "  </thead>\n",
              "  <tbody>\n",
              "    <tr>\n",
              "      <th>10</th>\n",
              "      <td>57.0</td>\n",
              "      <td>,ci37389162,</td>\n",
              "      <td>0.50</td>\n",
              "      <td>ml</td>\n",
              "    </tr>\n",
              "    <tr>\n",
              "      <th>11</th>\n",
              "      <td>186.0</td>\n",
              "      <td>,pr2018286010,</td>\n",
              "      <td>2.77</td>\n",
              "      <td>md</td>\n",
              "    </tr>\n",
              "    <tr>\n",
              "      <th>12</th>\n",
              "      <td>76.0</td>\n",
              "      <td>,ci37389146,</td>\n",
              "      <td>0.50</td>\n",
              "      <td>ml</td>\n",
              "    </tr>\n",
              "    <tr>\n",
              "      <th>13</th>\n",
              "      <td>157.0</td>\n",
              "      <td>,us1000hbti,</td>\n",
              "      <td>4.50</td>\n",
              "      <td>mb</td>\n",
              "    </tr>\n",
              "    <tr>\n",
              "      <th>14</th>\n",
              "      <td>71.0</td>\n",
              "      <td>,nc73096921,</td>\n",
              "      <td>2.13</td>\n",
              "      <td>md</td>\n",
              "    </tr>\n",
              "  </tbody>\n",
              "</table>\n",
              "</div>"
            ],
            "text/plain": [
              "      gap             ids   mag magType\n",
              "10   57.0    ,ci37389162,  0.50      ml\n",
              "11  186.0  ,pr2018286010,  2.77      md\n",
              "12   76.0    ,ci37389146,  0.50      ml\n",
              "13  157.0    ,us1000hbti,  4.50      mb\n",
              "14   71.0    ,nc73096921,  2.13      md"
            ]
          },
          "execution_count": 18,
          "metadata": {},
          "output_type": "execute_result"
        }
      ],
      "source": [
        "df.iloc[10:15, 6:10]"
      ]
    },
    {
      "cell_type": "markdown",
      "metadata": {
        "id": "zo_3XAwyS26w"
      },
      "source": [
        "When using `loc`, we can slice on column names. This will be inclusive of the endpoint because you can't be expected to know what the next column name will be. As such, we have multiple ways to achieve the same end goal:"
      ]
    },
    {
      "cell_type": "code",
      "execution_count": null,
      "metadata": {
        "id": "nbVkQOqOS26w",
        "outputId": "ff6cf8d5-7ca6-4b3e-d34e-707bb91c0b77"
      },
      "outputs": [
        {
          "data": {
            "text/plain": [
              "True"
            ]
          },
          "execution_count": 19,
          "metadata": {},
          "output_type": "execute_result"
        }
      ],
      "source": [
        "df.iloc[10:15, 6:10].equals(\n",
        "    df.loc[10:14, 'gap':'magType']\n",
        ")"
      ]
    },
    {
      "cell_type": "markdown",
      "metadata": {
        "id": "xjp6dSJyS26w"
      },
      "source": [
        "### Looking up scalar values\n",
        "We used `loc` and `iloc` to grab subsets of the dataframe. However, if we are just interested in the specific value at a given `[row, column]`, then we can use `iat` and `at`. We use `at` with labels:"
      ]
    },
    {
      "cell_type": "code",
      "execution_count": null,
      "metadata": {
        "id": "xwsq3ZaES263",
        "outputId": "afba0348-bdb4-4012-cb39-09cda13a5ccd"
      },
      "outputs": [
        {
          "data": {
            "text/plain": [
              "0.5"
            ]
          },
          "execution_count": 20,
          "metadata": {},
          "output_type": "execute_result"
        }
      ],
      "source": [
        "df.at[10, 'mag']"
      ]
    },
    {
      "cell_type": "markdown",
      "metadata": {
        "id": "gXAx-5AMS264"
      },
      "source": [
        "...and `iat` with integer indices:"
      ]
    },
    {
      "cell_type": "code",
      "execution_count": null,
      "metadata": {
        "id": "BSFO-DkwS264",
        "outputId": "62f1fafa-5264-4106-b895-1e50a92c1eb3"
      },
      "outputs": [
        {
          "data": {
            "text/plain": [
              "0.5"
            ]
          },
          "execution_count": 21,
          "metadata": {},
          "output_type": "execute_result"
        }
      ],
      "source": [
        "df.iat[10, 8]"
      ]
    },
    {
      "cell_type": "markdown",
      "metadata": {
        "id": "W_cPaLqaS264"
      },
      "source": [
        "## Filtering\n",
        "We can filter our dataframes using a **Boolean mask**, which can be made as follows:"
      ]
    },
    {
      "cell_type": "code",
      "execution_count": null,
      "metadata": {
        "id": "HPf7BKUhS265",
        "outputId": "2b7ff869-b761-4937-88cd-4c41cfc8b068"
      },
      "outputs": [
        {
          "data": {
            "text/plain": [
              "0       False\n",
              "1       False\n",
              "2        True\n",
              "3       False\n",
              "4        True\n",
              "        ...  \n",
              "9327    False\n",
              "9328    False\n",
              "9329     True\n",
              "9330    False\n",
              "9331    False\n",
              "Name: mag, Length: 9332, dtype: bool"
            ]
          },
          "execution_count": 22,
          "metadata": {},
          "output_type": "execute_result"
        }
      ],
      "source": [
        "df.mag > 2"
      ]
    },
    {
      "cell_type": "markdown",
      "metadata": {
        "id": "YdPScnrES265"
      },
      "source": [
        "To use a mask for selection, we simply place it inside the brackets:"
      ]
    },
    {
      "cell_type": "code",
      "execution_count": null,
      "metadata": {
        "id": "nXfFrpCaS265",
        "outputId": "80756509-ce70-4380-8cfc-8590a8cdfc03"
      },
      "outputs": [
        {
          "data": {
            "text/html": [
              "<div>\n",
              "<style scoped>\n",
              "    .dataframe tbody tr th:only-of-type {\n",
              "        vertical-align: middle;\n",
              "    }\n",
              "\n",
              "    .dataframe tbody tr th {\n",
              "        vertical-align: top;\n",
              "    }\n",
              "\n",
              "    .dataframe thead th {\n",
              "        text-align: right;\n",
              "    }\n",
              "</style>\n",
              "<table border=\"1\" class=\"dataframe\">\n",
              "  <thead>\n",
              "    <tr style=\"text-align: right;\">\n",
              "      <th></th>\n",
              "      <th>alert</th>\n",
              "      <th>cdi</th>\n",
              "      <th>code</th>\n",
              "      <th>detail</th>\n",
              "      <th>dmin</th>\n",
              "      <th>felt</th>\n",
              "      <th>gap</th>\n",
              "      <th>ids</th>\n",
              "      <th>mag</th>\n",
              "      <th>magType</th>\n",
              "      <th>...</th>\n",
              "      <th>sources</th>\n",
              "      <th>status</th>\n",
              "      <th>time</th>\n",
              "      <th>title</th>\n",
              "      <th>tsunami</th>\n",
              "      <th>type</th>\n",
              "      <th>types</th>\n",
              "      <th>tz</th>\n",
              "      <th>updated</th>\n",
              "      <th>url</th>\n",
              "    </tr>\n",
              "  </thead>\n",
              "  <tbody>\n",
              "    <tr>\n",
              "      <th>837</th>\n",
              "      <td>green</td>\n",
              "      <td>4.1</td>\n",
              "      <td>1000haa3</td>\n",
              "      <td>https://earthquake.usgs.gov/fdsnws/event/1/que...</td>\n",
              "      <td>1.763</td>\n",
              "      <td>3.0</td>\n",
              "      <td>14.0</td>\n",
              "      <td>,us1000haa3,pt18283003,at00pgehsk,</td>\n",
              "      <td>7.0</td>\n",
              "      <td>mww</td>\n",
              "      <td>...</td>\n",
              "      <td>,us,pt,at,</td>\n",
              "      <td>reviewed</td>\n",
              "      <td>1539204500290</td>\n",
              "      <td>M 7.0 - 117km E of Kimbe, Papua New Guinea</td>\n",
              "      <td>1</td>\n",
              "      <td>earthquake</td>\n",
              "      <td>,dyfi,finite-fault,general-text,geoserve,groun...</td>\n",
              "      <td>600.0</td>\n",
              "      <td>1539378744253</td>\n",
              "      <td>https://earthquake.usgs.gov/earthquakes/eventp...</td>\n",
              "    </tr>\n",
              "    <tr>\n",
              "      <th>5263</th>\n",
              "      <td>red</td>\n",
              "      <td>8.4</td>\n",
              "      <td>1000h3p4</td>\n",
              "      <td>https://earthquake.usgs.gov/fdsnws/event/1/que...</td>\n",
              "      <td>1.589</td>\n",
              "      <td>18.0</td>\n",
              "      <td>27.0</td>\n",
              "      <td>,us1000h3p4,us1000h4p4,</td>\n",
              "      <td>7.5</td>\n",
              "      <td>mww</td>\n",
              "      <td>...</td>\n",
              "      <td>,us,us,</td>\n",
              "      <td>reviewed</td>\n",
              "      <td>1538128963480</td>\n",
              "      <td>M 7.5 - 78km N of Palu, Indonesia</td>\n",
              "      <td>1</td>\n",
              "      <td>earthquake</td>\n",
              "      <td>,dyfi,finite-fault,general-text,geoserve,groun...</td>\n",
              "      <td>480.0</td>\n",
              "      <td>1539123134531</td>\n",
              "      <td>https://earthquake.usgs.gov/earthquakes/eventp...</td>\n",
              "    </tr>\n",
              "  </tbody>\n",
              "</table>\n",
              "<p>2 rows × 26 columns</p>\n",
              "</div>"
            ],
            "text/plain": [
              "      alert  cdi      code                                             detail  \\\n",
              "837   green  4.1  1000haa3  https://earthquake.usgs.gov/fdsnws/event/1/que...   \n",
              "5263    red  8.4  1000h3p4  https://earthquake.usgs.gov/fdsnws/event/1/que...   \n",
              "\n",
              "       dmin  felt   gap                                 ids  mag magType  ...  \\\n",
              "837   1.763   3.0  14.0  ,us1000haa3,pt18283003,at00pgehsk,  7.0     mww  ...   \n",
              "5263  1.589  18.0  27.0             ,us1000h3p4,us1000h4p4,  7.5     mww  ...   \n",
              "\n",
              "         sources    status           time  \\\n",
              "837   ,us,pt,at,  reviewed  1539204500290   \n",
              "5263     ,us,us,  reviewed  1538128963480   \n",
              "\n",
              "                                           title  tsunami        type  \\\n",
              "837   M 7.0 - 117km E of Kimbe, Papua New Guinea        1  earthquake   \n",
              "5263           M 7.5 - 78km N of Palu, Indonesia        1  earthquake   \n",
              "\n",
              "                                                  types     tz        updated  \\\n",
              "837   ,dyfi,finite-fault,general-text,geoserve,groun...  600.0  1539378744253   \n",
              "5263  ,dyfi,finite-fault,general-text,geoserve,groun...  480.0  1539123134531   \n",
              "\n",
              "                                                    url  \n",
              "837   https://earthquake.usgs.gov/earthquakes/eventp...  \n",
              "5263  https://earthquake.usgs.gov/earthquakes/eventp...  \n",
              "\n",
              "[2 rows x 26 columns]"
            ]
          },
          "execution_count": 23,
          "metadata": {},
          "output_type": "execute_result"
        }
      ],
      "source": [
        "df[df.mag >= 7.0]"
      ]
    },
    {
      "cell_type": "markdown",
      "metadata": {
        "id": "tBrwg2PrS265"
      },
      "source": [
        "We can use masks with `loc`:"
      ]
    },
    {
      "cell_type": "code",
      "execution_count": null,
      "metadata": {
        "id": "qprXasjLS266",
        "outputId": "bffcef4f-3074-4099-9b99-ba0c37de9923"
      },
      "outputs": [
        {
          "data": {
            "text/html": [
              "<div>\n",
              "<style scoped>\n",
              "    .dataframe tbody tr th:only-of-type {\n",
              "        vertical-align: middle;\n",
              "    }\n",
              "\n",
              "    .dataframe tbody tr th {\n",
              "        vertical-align: top;\n",
              "    }\n",
              "\n",
              "    .dataframe thead th {\n",
              "        text-align: right;\n",
              "    }\n",
              "</style>\n",
              "<table border=\"1\" class=\"dataframe\">\n",
              "  <thead>\n",
              "    <tr style=\"text-align: right;\">\n",
              "      <th></th>\n",
              "      <th>alert</th>\n",
              "      <th>mag</th>\n",
              "      <th>magType</th>\n",
              "      <th>title</th>\n",
              "      <th>tsunami</th>\n",
              "      <th>type</th>\n",
              "    </tr>\n",
              "  </thead>\n",
              "  <tbody>\n",
              "    <tr>\n",
              "      <th>837</th>\n",
              "      <td>green</td>\n",
              "      <td>7.0</td>\n",
              "      <td>mww</td>\n",
              "      <td>M 7.0 - 117km E of Kimbe, Papua New Guinea</td>\n",
              "      <td>1</td>\n",
              "      <td>earthquake</td>\n",
              "    </tr>\n",
              "    <tr>\n",
              "      <th>5263</th>\n",
              "      <td>red</td>\n",
              "      <td>7.5</td>\n",
              "      <td>mww</td>\n",
              "      <td>M 7.5 - 78km N of Palu, Indonesia</td>\n",
              "      <td>1</td>\n",
              "      <td>earthquake</td>\n",
              "    </tr>\n",
              "  </tbody>\n",
              "</table>\n",
              "</div>"
            ],
            "text/plain": [
              "      alert  mag magType                                       title  tsunami  \\\n",
              "837   green  7.0     mww  M 7.0 - 117km E of Kimbe, Papua New Guinea        1   \n",
              "5263    red  7.5     mww           M 7.5 - 78km N of Palu, Indonesia        1   \n",
              "\n",
              "            type  \n",
              "837   earthquake  \n",
              "5263  earthquake  "
            ]
          },
          "execution_count": 24,
          "metadata": {},
          "output_type": "execute_result"
        }
      ],
      "source": [
        "df.loc[\n",
        "    df.mag >= 7.0,\n",
        "    ['alert', 'mag', 'magType', 'title', 'tsunami', 'type']\n",
        "]"
      ]
    },
    {
      "cell_type": "markdown",
      "metadata": {
        "id": "WULswiDMS266"
      },
      "source": [
        "Masks can be created using multiple criteria when combined with bitwise operators `&` for AND and `|` for OR. We must also surround each criterion with parentheses. We can't use `and`/`or` here because we need to evaluate row by row:"
      ]
    },
    {
      "cell_type": "code",
      "execution_count": null,
      "metadata": {
        "id": "TQk1-ZoaS266",
        "outputId": "ca10d7ce-6348-476e-c078-ab73bd045831"
      },
      "outputs": [
        {
          "data": {
            "text/html": [
              "<div>\n",
              "<style scoped>\n",
              "    .dataframe tbody tr th:only-of-type {\n",
              "        vertical-align: middle;\n",
              "    }\n",
              "\n",
              "    .dataframe tbody tr th {\n",
              "        vertical-align: top;\n",
              "    }\n",
              "\n",
              "    .dataframe thead th {\n",
              "        text-align: right;\n",
              "    }\n",
              "</style>\n",
              "<table border=\"1\" class=\"dataframe\">\n",
              "  <thead>\n",
              "    <tr style=\"text-align: right;\">\n",
              "      <th></th>\n",
              "      <th>alert</th>\n",
              "      <th>mag</th>\n",
              "      <th>magType</th>\n",
              "      <th>title</th>\n",
              "      <th>tsunami</th>\n",
              "      <th>type</th>\n",
              "    </tr>\n",
              "  </thead>\n",
              "  <tbody>\n",
              "    <tr>\n",
              "      <th>5263</th>\n",
              "      <td>red</td>\n",
              "      <td>7.5</td>\n",
              "      <td>mww</td>\n",
              "      <td>M 7.5 - 78km N of Palu, Indonesia</td>\n",
              "      <td>1</td>\n",
              "      <td>earthquake</td>\n",
              "    </tr>\n",
              "  </tbody>\n",
              "</table>\n",
              "</div>"
            ],
            "text/plain": [
              "     alert  mag magType                              title  tsunami  \\\n",
              "5263   red  7.5     mww  M 7.5 - 78km N of Palu, Indonesia        1   \n",
              "\n",
              "            type  \n",
              "5263  earthquake  "
            ]
          },
          "execution_count": 25,
          "metadata": {},
          "output_type": "execute_result"
        }
      ],
      "source": [
        "df.loc[\n",
        "    (df.tsunami == 1) & (df.alert == 'red'),\n",
        "    ['alert', 'mag', 'magType', 'title', 'tsunami', 'type']\n",
        "]"
      ]
    },
    {
      "cell_type": "markdown",
      "metadata": {
        "id": "TYVyH9dyS267"
      },
      "source": [
        "An example with an OR condition, which is less restrictive:"
      ]
    },
    {
      "cell_type": "code",
      "execution_count": null,
      "metadata": {
        "id": "6r2A9FlkS267",
        "outputId": "648cd90e-1150-434a-dbb9-91dcca5b4add"
      },
      "outputs": [
        {
          "data": {
            "text/html": [
              "<div>\n",
              "<style scoped>\n",
              "    .dataframe tbody tr th:only-of-type {\n",
              "        vertical-align: middle;\n",
              "    }\n",
              "\n",
              "    .dataframe tbody tr th {\n",
              "        vertical-align: top;\n",
              "    }\n",
              "\n",
              "    .dataframe thead th {\n",
              "        text-align: right;\n",
              "    }\n",
              "</style>\n",
              "<table border=\"1\" class=\"dataframe\">\n",
              "  <thead>\n",
              "    <tr style=\"text-align: right;\">\n",
              "      <th></th>\n",
              "      <th>alert</th>\n",
              "      <th>mag</th>\n",
              "      <th>magType</th>\n",
              "      <th>title</th>\n",
              "      <th>tsunami</th>\n",
              "      <th>type</th>\n",
              "    </tr>\n",
              "  </thead>\n",
              "  <tbody>\n",
              "    <tr>\n",
              "      <th>36</th>\n",
              "      <td>NaN</td>\n",
              "      <td>5.0</td>\n",
              "      <td>mww</td>\n",
              "      <td>M 5.0 - 165km NNW of Flying Fish Cove, Christm...</td>\n",
              "      <td>1</td>\n",
              "      <td>earthquake</td>\n",
              "    </tr>\n",
              "    <tr>\n",
              "      <th>118</th>\n",
              "      <td>green</td>\n",
              "      <td>6.7</td>\n",
              "      <td>mww</td>\n",
              "      <td>M 6.7 - 262km NW of Ozernovskiy, Russia</td>\n",
              "      <td>1</td>\n",
              "      <td>earthquake</td>\n",
              "    </tr>\n",
              "    <tr>\n",
              "      <th>501</th>\n",
              "      <td>green</td>\n",
              "      <td>5.6</td>\n",
              "      <td>mww</td>\n",
              "      <td>M 5.6 - 128km SE of Kimbe, Papua New Guinea</td>\n",
              "      <td>1</td>\n",
              "      <td>earthquake</td>\n",
              "    </tr>\n",
              "    <tr>\n",
              "      <th>799</th>\n",
              "      <td>green</td>\n",
              "      <td>6.5</td>\n",
              "      <td>mww</td>\n",
              "      <td>M 6.5 - 148km S of Severo-Kuril'sk, Russia</td>\n",
              "      <td>1</td>\n",
              "      <td>earthquake</td>\n",
              "    </tr>\n",
              "    <tr>\n",
              "      <th>816</th>\n",
              "      <td>green</td>\n",
              "      <td>6.2</td>\n",
              "      <td>mww</td>\n",
              "      <td>M 6.2 - 94km SW of Kokopo, Papua New Guinea</td>\n",
              "      <td>1</td>\n",
              "      <td>earthquake</td>\n",
              "    </tr>\n",
              "    <tr>\n",
              "      <th>...</th>\n",
              "      <td>...</td>\n",
              "      <td>...</td>\n",
              "      <td>...</td>\n",
              "      <td>...</td>\n",
              "      <td>...</td>\n",
              "      <td>...</td>\n",
              "    </tr>\n",
              "    <tr>\n",
              "      <th>8561</th>\n",
              "      <td>NaN</td>\n",
              "      <td>5.4</td>\n",
              "      <td>mb</td>\n",
              "      <td>M 5.4 - 228km S of Taron, Papua New Guinea</td>\n",
              "      <td>1</td>\n",
              "      <td>earthquake</td>\n",
              "    </tr>\n",
              "    <tr>\n",
              "      <th>8624</th>\n",
              "      <td>NaN</td>\n",
              "      <td>5.1</td>\n",
              "      <td>mb</td>\n",
              "      <td>M 5.1 - 278km SE of Pondaguitan, Philippines</td>\n",
              "      <td>1</td>\n",
              "      <td>earthquake</td>\n",
              "    </tr>\n",
              "    <tr>\n",
              "      <th>9133</th>\n",
              "      <td>green</td>\n",
              "      <td>5.1</td>\n",
              "      <td>ml</td>\n",
              "      <td>M 5.1 - 64km SSW of Kaktovik, Alaska</td>\n",
              "      <td>1</td>\n",
              "      <td>earthquake</td>\n",
              "    </tr>\n",
              "    <tr>\n",
              "      <th>9175</th>\n",
              "      <td>NaN</td>\n",
              "      <td>5.2</td>\n",
              "      <td>mb</td>\n",
              "      <td>M 5.2 - 126km N of Dili, East Timor</td>\n",
              "      <td>1</td>\n",
              "      <td>earthquake</td>\n",
              "    </tr>\n",
              "    <tr>\n",
              "      <th>9304</th>\n",
              "      <td>NaN</td>\n",
              "      <td>5.1</td>\n",
              "      <td>mb</td>\n",
              "      <td>M 5.1 - 34km NW of Finschhafen, Papua New Guinea</td>\n",
              "      <td>1</td>\n",
              "      <td>earthquake</td>\n",
              "    </tr>\n",
              "  </tbody>\n",
              "</table>\n",
              "<p>61 rows × 6 columns</p>\n",
              "</div>"
            ],
            "text/plain": [
              "      alert  mag magType                                              title  \\\n",
              "36      NaN  5.0     mww  M 5.0 - 165km NNW of Flying Fish Cove, Christm...   \n",
              "118   green  6.7     mww            M 6.7 - 262km NW of Ozernovskiy, Russia   \n",
              "501   green  5.6     mww        M 5.6 - 128km SE of Kimbe, Papua New Guinea   \n",
              "799   green  6.5     mww         M 6.5 - 148km S of Severo-Kuril'sk, Russia   \n",
              "816   green  6.2     mww        M 6.2 - 94km SW of Kokopo, Papua New Guinea   \n",
              "...     ...  ...     ...                                                ...   \n",
              "8561    NaN  5.4      mb         M 5.4 - 228km S of Taron, Papua New Guinea   \n",
              "8624    NaN  5.1      mb       M 5.1 - 278km SE of Pondaguitan, Philippines   \n",
              "9133  green  5.1      ml               M 5.1 - 64km SSW of Kaktovik, Alaska   \n",
              "9175    NaN  5.2      mb                M 5.2 - 126km N of Dili, East Timor   \n",
              "9304    NaN  5.1      mb   M 5.1 - 34km NW of Finschhafen, Papua New Guinea   \n",
              "\n",
              "      tsunami        type  \n",
              "36          1  earthquake  \n",
              "118         1  earthquake  \n",
              "501         1  earthquake  \n",
              "799         1  earthquake  \n",
              "816         1  earthquake  \n",
              "...       ...         ...  \n",
              "8561        1  earthquake  \n",
              "8624        1  earthquake  \n",
              "9133        1  earthquake  \n",
              "9175        1  earthquake  \n",
              "9304        1  earthquake  \n",
              "\n",
              "[61 rows x 6 columns]"
            ]
          },
          "execution_count": 26,
          "metadata": {},
          "output_type": "execute_result"
        }
      ],
      "source": [
        "df.loc[\n",
        "    (df.tsunami == 1) | (df.alert == 'red'),\n",
        "    ['alert', 'mag', 'magType', 'title', 'tsunami', 'type']\n",
        "]"
      ]
    },
    {
      "cell_type": "markdown",
      "metadata": {
        "id": "oRRG3e5SS267"
      },
      "source": [
        "Masks can be created from any criteria that results in a Boolean. For example, we can select all earthquakes with the string `Alaska` in the `place` column with a non-null value for the `alert` column. To get non-nulls, we can use the `isnull()` method with the bitwise negation operator (`~`) or the `notnull()` method:"
      ]
    },
    {
      "cell_type": "code",
      "execution_count": null,
      "metadata": {
        "id": "BfByQ5uAS267",
        "outputId": "b03a5b9f-4029-4c07-c6af-90e6c3d5f5c9"
      },
      "outputs": [
        {
          "data": {
            "text/html": [
              "<div>\n",
              "<style scoped>\n",
              "    .dataframe tbody tr th:only-of-type {\n",
              "        vertical-align: middle;\n",
              "    }\n",
              "\n",
              "    .dataframe tbody tr th {\n",
              "        vertical-align: top;\n",
              "    }\n",
              "\n",
              "    .dataframe thead th {\n",
              "        text-align: right;\n",
              "    }\n",
              "</style>\n",
              "<table border=\"1\" class=\"dataframe\">\n",
              "  <thead>\n",
              "    <tr style=\"text-align: right;\">\n",
              "      <th></th>\n",
              "      <th>alert</th>\n",
              "      <th>mag</th>\n",
              "      <th>magType</th>\n",
              "      <th>title</th>\n",
              "      <th>tsunami</th>\n",
              "      <th>type</th>\n",
              "    </tr>\n",
              "  </thead>\n",
              "  <tbody>\n",
              "    <tr>\n",
              "      <th>1015</th>\n",
              "      <td>green</td>\n",
              "      <td>5.0</td>\n",
              "      <td>ml</td>\n",
              "      <td>M 5.0 - 61km SSW of Chignik Lake, Alaska</td>\n",
              "      <td>1</td>\n",
              "      <td>earthquake</td>\n",
              "    </tr>\n",
              "    <tr>\n",
              "      <th>1273</th>\n",
              "      <td>green</td>\n",
              "      <td>4.0</td>\n",
              "      <td>ml</td>\n",
              "      <td>M 4.0 - 71km SW of Kaktovik, Alaska</td>\n",
              "      <td>1</td>\n",
              "      <td>earthquake</td>\n",
              "    </tr>\n",
              "    <tr>\n",
              "      <th>1795</th>\n",
              "      <td>green</td>\n",
              "      <td>4.0</td>\n",
              "      <td>ml</td>\n",
              "      <td>M 4.0 - 60km WNW of Valdez, Alaska</td>\n",
              "      <td>1</td>\n",
              "      <td>earthquake</td>\n",
              "    </tr>\n",
              "    <tr>\n",
              "      <th>2752</th>\n",
              "      <td>green</td>\n",
              "      <td>4.0</td>\n",
              "      <td>ml</td>\n",
              "      <td>M 4.0 - 67km SSW of Kaktovik, Alaska</td>\n",
              "      <td>1</td>\n",
              "      <td>earthquake</td>\n",
              "    </tr>\n",
              "    <tr>\n",
              "      <th>3260</th>\n",
              "      <td>green</td>\n",
              "      <td>3.9</td>\n",
              "      <td>ml</td>\n",
              "      <td>M 3.9 - 44km N of North Nenana, Alaska</td>\n",
              "      <td>0</td>\n",
              "      <td>earthquake</td>\n",
              "    </tr>\n",
              "    <tr>\n",
              "      <th>4101</th>\n",
              "      <td>green</td>\n",
              "      <td>4.2</td>\n",
              "      <td>ml</td>\n",
              "      <td>M 4.2 - 131km NNW of Arctic Village, Alaska</td>\n",
              "      <td>0</td>\n",
              "      <td>earthquake</td>\n",
              "    </tr>\n",
              "    <tr>\n",
              "      <th>6897</th>\n",
              "      <td>green</td>\n",
              "      <td>3.8</td>\n",
              "      <td>ml</td>\n",
              "      <td>M 3.8 - 80km SSW of Kaktovik, Alaska</td>\n",
              "      <td>0</td>\n",
              "      <td>earthquake</td>\n",
              "    </tr>\n",
              "    <tr>\n",
              "      <th>8524</th>\n",
              "      <td>green</td>\n",
              "      <td>3.8</td>\n",
              "      <td>ml</td>\n",
              "      <td>M 3.8 - 69km SSW of Kaktovik, Alaska</td>\n",
              "      <td>0</td>\n",
              "      <td>earthquake</td>\n",
              "    </tr>\n",
              "    <tr>\n",
              "      <th>9133</th>\n",
              "      <td>green</td>\n",
              "      <td>5.1</td>\n",
              "      <td>ml</td>\n",
              "      <td>M 5.1 - 64km SSW of Kaktovik, Alaska</td>\n",
              "      <td>1</td>\n",
              "      <td>earthquake</td>\n",
              "    </tr>\n",
              "  </tbody>\n",
              "</table>\n",
              "</div>"
            ],
            "text/plain": [
              "      alert  mag magType                                        title  \\\n",
              "1015  green  5.0      ml     M 5.0 - 61km SSW of Chignik Lake, Alaska   \n",
              "1273  green  4.0      ml          M 4.0 - 71km SW of Kaktovik, Alaska   \n",
              "1795  green  4.0      ml           M 4.0 - 60km WNW of Valdez, Alaska   \n",
              "2752  green  4.0      ml         M 4.0 - 67km SSW of Kaktovik, Alaska   \n",
              "3260  green  3.9      ml       M 3.9 - 44km N of North Nenana, Alaska   \n",
              "4101  green  4.2      ml  M 4.2 - 131km NNW of Arctic Village, Alaska   \n",
              "6897  green  3.8      ml         M 3.8 - 80km SSW of Kaktovik, Alaska   \n",
              "8524  green  3.8      ml         M 3.8 - 69km SSW of Kaktovik, Alaska   \n",
              "9133  green  5.1      ml         M 5.1 - 64km SSW of Kaktovik, Alaska   \n",
              "\n",
              "      tsunami        type  \n",
              "1015        1  earthquake  \n",
              "1273        1  earthquake  \n",
              "1795        1  earthquake  \n",
              "2752        1  earthquake  \n",
              "3260        0  earthquake  \n",
              "4101        0  earthquake  \n",
              "6897        0  earthquake  \n",
              "8524        0  earthquake  \n",
              "9133        1  earthquake  "
            ]
          },
          "execution_count": 27,
          "metadata": {},
          "output_type": "execute_result"
        }
      ],
      "source": [
        "df.loc[\n",
        "    (df.place.str.contains('Alaska')) & (df.alert.notnull()),\n",
        "    ['alert', 'mag', 'magType', 'title', 'tsunami', 'type']\n",
        "]"
      ]
    },
    {
      "cell_type": "markdown",
      "metadata": {
        "id": "po2nHxs9S268"
      },
      "source": [
        "We can even use regular expressions here:"
      ]
    },
    {
      "cell_type": "code",
      "execution_count": null,
      "metadata": {
        "id": "US5imMNhS268",
        "outputId": "3398e52c-eb4b-437c-9a4a-b189d600cb57"
      },
      "outputs": [
        {
          "data": {
            "text/html": [
              "<div>\n",
              "<style scoped>\n",
              "    .dataframe tbody tr th:only-of-type {\n",
              "        vertical-align: middle;\n",
              "    }\n",
              "\n",
              "    .dataframe tbody tr th {\n",
              "        vertical-align: top;\n",
              "    }\n",
              "\n",
              "    .dataframe thead th {\n",
              "        text-align: right;\n",
              "    }\n",
              "</style>\n",
              "<table border=\"1\" class=\"dataframe\">\n",
              "  <thead>\n",
              "    <tr style=\"text-align: right;\">\n",
              "      <th></th>\n",
              "      <th>alert</th>\n",
              "      <th>mag</th>\n",
              "      <th>magType</th>\n",
              "      <th>title</th>\n",
              "      <th>tsunami</th>\n",
              "      <th>type</th>\n",
              "    </tr>\n",
              "  </thead>\n",
              "  <tbody>\n",
              "    <tr>\n",
              "      <th>1465</th>\n",
              "      <td>green</td>\n",
              "      <td>3.83</td>\n",
              "      <td>mw</td>\n",
              "      <td>M 3.8 - 109km WNW of Trinidad, CA</td>\n",
              "      <td>0</td>\n",
              "      <td>earthquake</td>\n",
              "    </tr>\n",
              "    <tr>\n",
              "      <th>2414</th>\n",
              "      <td>green</td>\n",
              "      <td>3.83</td>\n",
              "      <td>mw</td>\n",
              "      <td>M 3.8 - 5km SW of Tres Pinos, CA</td>\n",
              "      <td>1</td>\n",
              "      <td>earthquake</td>\n",
              "    </tr>\n",
              "  </tbody>\n",
              "</table>\n",
              "</div>"
            ],
            "text/plain": [
              "      alert   mag magType                              title  tsunami  \\\n",
              "1465  green  3.83      mw  M 3.8 - 109km WNW of Trinidad, CA        0   \n",
              "2414  green  3.83      mw   M 3.8 - 5km SW of Tres Pinos, CA        1   \n",
              "\n",
              "            type  \n",
              "1465  earthquake  \n",
              "2414  earthquake  "
            ]
          },
          "execution_count": 28,
          "metadata": {},
          "output_type": "execute_result"
        }
      ],
      "source": [
        "df.loc[\n",
        "    (df.place.str.contains(r'CA|California$')) & (df.mag > 3.8),\n",
        "    ['alert', 'mag', 'magType', 'title', 'tsunami', 'type']\n",
        "]"
      ]
    },
    {
      "cell_type": "markdown",
      "metadata": {
        "id": "LvnIa_WrS268"
      },
      "source": [
        "We can use the `between()` method to turn 2 individual checks (is less than or equal to some maximum value and is greater than or equal to some minimum value) into a single one. Note this is inclusive of the endpoint by default:"
      ]
    },
    {
      "cell_type": "code",
      "execution_count": null,
      "metadata": {
        "id": "0ZdwzOgNS268",
        "outputId": "7642aae8-3621-443b-bf4c-9543464be388"
      },
      "outputs": [
        {
          "data": {
            "text/html": [
              "<div>\n",
              "<style scoped>\n",
              "    .dataframe tbody tr th:only-of-type {\n",
              "        vertical-align: middle;\n",
              "    }\n",
              "\n",
              "    .dataframe tbody tr th {\n",
              "        vertical-align: top;\n",
              "    }\n",
              "\n",
              "    .dataframe thead th {\n",
              "        text-align: right;\n",
              "    }\n",
              "</style>\n",
              "<table border=\"1\" class=\"dataframe\">\n",
              "  <thead>\n",
              "    <tr style=\"text-align: right;\">\n",
              "      <th></th>\n",
              "      <th>alert</th>\n",
              "      <th>mag</th>\n",
              "      <th>magType</th>\n",
              "      <th>title</th>\n",
              "      <th>tsunami</th>\n",
              "      <th>type</th>\n",
              "    </tr>\n",
              "  </thead>\n",
              "  <tbody>\n",
              "    <tr>\n",
              "      <th>118</th>\n",
              "      <td>green</td>\n",
              "      <td>6.7</td>\n",
              "      <td>mww</td>\n",
              "      <td>M 6.7 - 262km NW of Ozernovskiy, Russia</td>\n",
              "      <td>1</td>\n",
              "      <td>earthquake</td>\n",
              "    </tr>\n",
              "    <tr>\n",
              "      <th>799</th>\n",
              "      <td>green</td>\n",
              "      <td>6.5</td>\n",
              "      <td>mww</td>\n",
              "      <td>M 6.5 - 148km S of Severo-Kuril'sk, Russia</td>\n",
              "      <td>1</td>\n",
              "      <td>earthquake</td>\n",
              "    </tr>\n",
              "    <tr>\n",
              "      <th>837</th>\n",
              "      <td>green</td>\n",
              "      <td>7.0</td>\n",
              "      <td>mww</td>\n",
              "      <td>M 7.0 - 117km E of Kimbe, Papua New Guinea</td>\n",
              "      <td>1</td>\n",
              "      <td>earthquake</td>\n",
              "    </tr>\n",
              "    <tr>\n",
              "      <th>4363</th>\n",
              "      <td>green</td>\n",
              "      <td>6.7</td>\n",
              "      <td>mww</td>\n",
              "      <td>M 6.7 - 263km NNE of Ndoi Island, Fiji</td>\n",
              "      <td>1</td>\n",
              "      <td>earthquake</td>\n",
              "    </tr>\n",
              "    <tr>\n",
              "      <th>5263</th>\n",
              "      <td>red</td>\n",
              "      <td>7.5</td>\n",
              "      <td>mww</td>\n",
              "      <td>M 7.5 - 78km N of Palu, Indonesia</td>\n",
              "      <td>1</td>\n",
              "      <td>earthquake</td>\n",
              "    </tr>\n",
              "  </tbody>\n",
              "</table>\n",
              "</div>"
            ],
            "text/plain": [
              "      alert  mag magType                                       title  tsunami  \\\n",
              "118   green  6.7     mww     M 6.7 - 262km NW of Ozernovskiy, Russia        1   \n",
              "799   green  6.5     mww  M 6.5 - 148km S of Severo-Kuril'sk, Russia        1   \n",
              "837   green  7.0     mww  M 7.0 - 117km E of Kimbe, Papua New Guinea        1   \n",
              "4363  green  6.7     mww      M 6.7 - 263km NNE of Ndoi Island, Fiji        1   \n",
              "5263    red  7.5     mww           M 7.5 - 78km N of Palu, Indonesia        1   \n",
              "\n",
              "            type  \n",
              "118   earthquake  \n",
              "799   earthquake  \n",
              "837   earthquake  \n",
              "4363  earthquake  \n",
              "5263  earthquake  "
            ]
          },
          "execution_count": 29,
          "metadata": {},
          "output_type": "execute_result"
        }
      ],
      "source": [
        "df.loc[\n",
        "    df.mag.between(6.5, 7.5),\n",
        "    ['alert', 'mag', 'magType', 'title', 'tsunami', 'type']\n",
        "]"
      ]
    },
    {
      "cell_type": "markdown",
      "metadata": {
        "id": "fvpwCdHbS269"
      },
      "source": [
        "We can use the `isin()` method to check for membership in a list of values:"
      ]
    },
    {
      "cell_type": "code",
      "execution_count": null,
      "metadata": {
        "id": "UdsPALIKS269",
        "outputId": "1b40740b-513e-4106-8c54-64c36ebe0a6e"
      },
      "outputs": [
        {
          "data": {
            "text/html": [
              "<div>\n",
              "<style scoped>\n",
              "    .dataframe tbody tr th:only-of-type {\n",
              "        vertical-align: middle;\n",
              "    }\n",
              "\n",
              "    .dataframe tbody tr th {\n",
              "        vertical-align: top;\n",
              "    }\n",
              "\n",
              "    .dataframe thead th {\n",
              "        text-align: right;\n",
              "    }\n",
              "</style>\n",
              "<table border=\"1\" class=\"dataframe\">\n",
              "  <thead>\n",
              "    <tr style=\"text-align: right;\">\n",
              "      <th></th>\n",
              "      <th>alert</th>\n",
              "      <th>mag</th>\n",
              "      <th>magType</th>\n",
              "      <th>title</th>\n",
              "      <th>tsunami</th>\n",
              "      <th>type</th>\n",
              "    </tr>\n",
              "  </thead>\n",
              "  <tbody>\n",
              "    <tr>\n",
              "      <th>995</th>\n",
              "      <td>NaN</td>\n",
              "      <td>3.35</td>\n",
              "      <td>mw</td>\n",
              "      <td>M 3.4 - 9km WNW of Cobb, CA</td>\n",
              "      <td>0</td>\n",
              "      <td>earthquake</td>\n",
              "    </tr>\n",
              "    <tr>\n",
              "      <th>1465</th>\n",
              "      <td>green</td>\n",
              "      <td>3.83</td>\n",
              "      <td>mw</td>\n",
              "      <td>M 3.8 - 109km WNW of Trinidad, CA</td>\n",
              "      <td>0</td>\n",
              "      <td>earthquake</td>\n",
              "    </tr>\n",
              "    <tr>\n",
              "      <th>2414</th>\n",
              "      <td>green</td>\n",
              "      <td>3.83</td>\n",
              "      <td>mw</td>\n",
              "      <td>M 3.8 - 5km SW of Tres Pinos, CA</td>\n",
              "      <td>1</td>\n",
              "      <td>earthquake</td>\n",
              "    </tr>\n",
              "    <tr>\n",
              "      <th>4988</th>\n",
              "      <td>green</td>\n",
              "      <td>4.41</td>\n",
              "      <td>mw</td>\n",
              "      <td>M 4.4 - 1km SE of Delta, B.C., MX</td>\n",
              "      <td>1</td>\n",
              "      <td>earthquake</td>\n",
              "    </tr>\n",
              "    <tr>\n",
              "      <th>6307</th>\n",
              "      <td>green</td>\n",
              "      <td>5.80</td>\n",
              "      <td>mwb</td>\n",
              "      <td>M 5.8 - 297km NNE of Ndoi Island, Fiji</td>\n",
              "      <td>0</td>\n",
              "      <td>earthquake</td>\n",
              "    </tr>\n",
              "    <tr>\n",
              "      <th>8257</th>\n",
              "      <td>green</td>\n",
              "      <td>5.70</td>\n",
              "      <td>mwb</td>\n",
              "      <td>M 5.7 - 175km SSE of Lambasa, Fiji</td>\n",
              "      <td>0</td>\n",
              "      <td>earthquake</td>\n",
              "    </tr>\n",
              "  </tbody>\n",
              "</table>\n",
              "</div>"
            ],
            "text/plain": [
              "      alert   mag magType                                   title  tsunami  \\\n",
              "995     NaN  3.35      mw             M 3.4 - 9km WNW of Cobb, CA        0   \n",
              "1465  green  3.83      mw       M 3.8 - 109km WNW of Trinidad, CA        0   \n",
              "2414  green  3.83      mw        M 3.8 - 5km SW of Tres Pinos, CA        1   \n",
              "4988  green  4.41      mw       M 4.4 - 1km SE of Delta, B.C., MX        1   \n",
              "6307  green  5.80     mwb  M 5.8 - 297km NNE of Ndoi Island, Fiji        0   \n",
              "8257  green  5.70     mwb      M 5.7 - 175km SSE of Lambasa, Fiji        0   \n",
              "\n",
              "            type  \n",
              "995   earthquake  \n",
              "1465  earthquake  \n",
              "2414  earthquake  \n",
              "4988  earthquake  \n",
              "6307  earthquake  \n",
              "8257  earthquake  "
            ]
          },
          "execution_count": 30,
          "metadata": {},
          "output_type": "execute_result"
        }
      ],
      "source": [
        "df.loc[\n",
        "    df.magType.isin(['mw', 'mwb']),\n",
        "    ['alert', 'mag', 'magType', 'title', 'tsunami', 'type']\n",
        "]"
      ]
    },
    {
      "cell_type": "markdown",
      "metadata": {
        "id": "OTlU1wHhS269"
      },
      "source": [
        "We can grab the index of the minimum and maximum values of a given column and use those to select the entire row where they occur:"
      ]
    },
    {
      "cell_type": "code",
      "execution_count": null,
      "metadata": {
        "id": "SX_hQ1N6S269",
        "outputId": "98a503dc-26b8-44c7-dc5b-71be90e89634"
      },
      "outputs": [
        {
          "data": {
            "text/plain": [
              "[2409, 5263]"
            ]
          },
          "execution_count": 31,
          "metadata": {},
          "output_type": "execute_result"
        }
      ],
      "source": [
        "[df.mag.idxmin(), df.mag.idxmax()]"
      ]
    },
    {
      "cell_type": "code",
      "execution_count": null,
      "metadata": {
        "id": "nWeuft3NS26-",
        "outputId": "8aaf3046-e9ca-4b84-bf04-5c3c518d41fb"
      },
      "outputs": [
        {
          "data": {
            "text/html": [
              "<div>\n",
              "<style scoped>\n",
              "    .dataframe tbody tr th:only-of-type {\n",
              "        vertical-align: middle;\n",
              "    }\n",
              "\n",
              "    .dataframe tbody tr th {\n",
              "        vertical-align: top;\n",
              "    }\n",
              "\n",
              "    .dataframe thead th {\n",
              "        text-align: right;\n",
              "    }\n",
              "</style>\n",
              "<table border=\"1\" class=\"dataframe\">\n",
              "  <thead>\n",
              "    <tr style=\"text-align: right;\">\n",
              "      <th></th>\n",
              "      <th>alert</th>\n",
              "      <th>mag</th>\n",
              "      <th>magType</th>\n",
              "      <th>title</th>\n",
              "      <th>tsunami</th>\n",
              "      <th>type</th>\n",
              "    </tr>\n",
              "  </thead>\n",
              "  <tbody>\n",
              "    <tr>\n",
              "      <th>2409</th>\n",
              "      <td>NaN</td>\n",
              "      <td>-1.26</td>\n",
              "      <td>ml</td>\n",
              "      <td>M -1.3 - 41km ENE of Adak, Alaska</td>\n",
              "      <td>0</td>\n",
              "      <td>earthquake</td>\n",
              "    </tr>\n",
              "    <tr>\n",
              "      <th>5263</th>\n",
              "      <td>red</td>\n",
              "      <td>7.50</td>\n",
              "      <td>mww</td>\n",
              "      <td>M 7.5 - 78km N of Palu, Indonesia</td>\n",
              "      <td>1</td>\n",
              "      <td>earthquake</td>\n",
              "    </tr>\n",
              "  </tbody>\n",
              "</table>\n",
              "</div>"
            ],
            "text/plain": [
              "     alert   mag magType                              title  tsunami  \\\n",
              "2409   NaN -1.26      ml  M -1.3 - 41km ENE of Adak, Alaska        0   \n",
              "5263   red  7.50     mww  M 7.5 - 78km N of Palu, Indonesia        1   \n",
              "\n",
              "            type  \n",
              "2409  earthquake  \n",
              "5263  earthquake  "
            ]
          },
          "execution_count": 32,
          "metadata": {},
          "output_type": "execute_result"
        }
      ],
      "source": [
        "df.loc[\n",
        "    [df.mag.idxmin(), df.mag.idxmax()],\n",
        "    ['alert', 'mag', 'magType', 'title', 'tsunami', 'type']\n",
        "]"
      ]
    },
    {
      "cell_type": "markdown",
      "metadata": {
        "id": "dtmkV_BDS26-"
      },
      "source": [
        "Note that there is a `filter()` method, but it doesn't filter the data in the same sense as we discussed in this section. Here are a few things you can do with this method.\n",
        "\n",
        "- grab columns of a dataframe by passing a list to `items`:"
      ]
    },
    {
      "cell_type": "code",
      "execution_count": null,
      "metadata": {
        "id": "4jkeR8_MS26-",
        "outputId": "c8c5c5d5-6994-48f1-d5ea-7c6c2d022d74"
      },
      "outputs": [
        {
          "data": {
            "text/html": [
              "<div>\n",
              "<style scoped>\n",
              "    .dataframe tbody tr th:only-of-type {\n",
              "        vertical-align: middle;\n",
              "    }\n",
              "\n",
              "    .dataframe tbody tr th {\n",
              "        vertical-align: top;\n",
              "    }\n",
              "\n",
              "    .dataframe thead th {\n",
              "        text-align: right;\n",
              "    }\n",
              "</style>\n",
              "<table border=\"1\" class=\"dataframe\">\n",
              "  <thead>\n",
              "    <tr style=\"text-align: right;\">\n",
              "      <th></th>\n",
              "      <th>mag</th>\n",
              "      <th>magType</th>\n",
              "    </tr>\n",
              "  </thead>\n",
              "  <tbody>\n",
              "    <tr>\n",
              "      <th>0</th>\n",
              "      <td>1.35</td>\n",
              "      <td>ml</td>\n",
              "    </tr>\n",
              "    <tr>\n",
              "      <th>1</th>\n",
              "      <td>1.29</td>\n",
              "      <td>ml</td>\n",
              "    </tr>\n",
              "    <tr>\n",
              "      <th>2</th>\n",
              "      <td>3.42</td>\n",
              "      <td>ml</td>\n",
              "    </tr>\n",
              "    <tr>\n",
              "      <th>3</th>\n",
              "      <td>0.44</td>\n",
              "      <td>ml</td>\n",
              "    </tr>\n",
              "    <tr>\n",
              "      <th>4</th>\n",
              "      <td>2.16</td>\n",
              "      <td>md</td>\n",
              "    </tr>\n",
              "  </tbody>\n",
              "</table>\n",
              "</div>"
            ],
            "text/plain": [
              "    mag magType\n",
              "0  1.35      ml\n",
              "1  1.29      ml\n",
              "2  3.42      ml\n",
              "3  0.44      ml\n",
              "4  2.16      md"
            ]
          },
          "execution_count": 33,
          "metadata": {},
          "output_type": "execute_result"
        }
      ],
      "source": [
        "df.filter(items=['mag', 'magType']).head()"
      ]
    },
    {
      "cell_type": "markdown",
      "metadata": {
        "id": "vMTxO4tQS26-"
      },
      "source": [
        "- grab all the columns that contain a string with the `like` parameter:"
      ]
    },
    {
      "cell_type": "code",
      "execution_count": null,
      "metadata": {
        "id": "CExa1ljYS26_",
        "outputId": "d86eba9e-8643-4009-d1d3-2538370be3e0"
      },
      "outputs": [
        {
          "data": {
            "text/html": [
              "<div>\n",
              "<style scoped>\n",
              "    .dataframe tbody tr th:only-of-type {\n",
              "        vertical-align: middle;\n",
              "    }\n",
              "\n",
              "    .dataframe tbody tr th {\n",
              "        vertical-align: top;\n",
              "    }\n",
              "\n",
              "    .dataframe thead th {\n",
              "        text-align: right;\n",
              "    }\n",
              "</style>\n",
              "<table border=\"1\" class=\"dataframe\">\n",
              "  <thead>\n",
              "    <tr style=\"text-align: right;\">\n",
              "      <th></th>\n",
              "      <th>mag</th>\n",
              "      <th>magType</th>\n",
              "    </tr>\n",
              "  </thead>\n",
              "  <tbody>\n",
              "    <tr>\n",
              "      <th>0</th>\n",
              "      <td>1.35</td>\n",
              "      <td>ml</td>\n",
              "    </tr>\n",
              "    <tr>\n",
              "      <th>1</th>\n",
              "      <td>1.29</td>\n",
              "      <td>ml</td>\n",
              "    </tr>\n",
              "    <tr>\n",
              "      <th>2</th>\n",
              "      <td>3.42</td>\n",
              "      <td>ml</td>\n",
              "    </tr>\n",
              "    <tr>\n",
              "      <th>3</th>\n",
              "      <td>0.44</td>\n",
              "      <td>ml</td>\n",
              "    </tr>\n",
              "    <tr>\n",
              "      <th>4</th>\n",
              "      <td>2.16</td>\n",
              "      <td>md</td>\n",
              "    </tr>\n",
              "  </tbody>\n",
              "</table>\n",
              "</div>"
            ],
            "text/plain": [
              "    mag magType\n",
              "0  1.35      ml\n",
              "1  1.29      ml\n",
              "2  3.42      ml\n",
              "3  0.44      ml\n",
              "4  2.16      md"
            ]
          },
          "execution_count": 34,
          "metadata": {},
          "output_type": "execute_result"
        }
      ],
      "source": [
        "df.filter(like='mag').head()"
      ]
    },
    {
      "cell_type": "markdown",
      "metadata": {
        "id": "VGFxx3n3S26_"
      },
      "source": [
        "- use regular expressions; here, we select any columns that start with `t`:"
      ]
    },
    {
      "cell_type": "code",
      "execution_count": null,
      "metadata": {
        "id": "5lLDCKUiS26_",
        "outputId": "fedb992d-3b0e-4f88-81db-943f8c5bdaf5"
      },
      "outputs": [
        {
          "data": {
            "text/html": [
              "<div>\n",
              "<style scoped>\n",
              "    .dataframe tbody tr th:only-of-type {\n",
              "        vertical-align: middle;\n",
              "    }\n",
              "\n",
              "    .dataframe tbody tr th {\n",
              "        vertical-align: top;\n",
              "    }\n",
              "\n",
              "    .dataframe thead th {\n",
              "        text-align: right;\n",
              "    }\n",
              "</style>\n",
              "<table border=\"1\" class=\"dataframe\">\n",
              "  <thead>\n",
              "    <tr style=\"text-align: right;\">\n",
              "      <th></th>\n",
              "      <th>time</th>\n",
              "      <th>title</th>\n",
              "      <th>tsunami</th>\n",
              "      <th>type</th>\n",
              "      <th>types</th>\n",
              "      <th>tz</th>\n",
              "    </tr>\n",
              "  </thead>\n",
              "  <tbody>\n",
              "    <tr>\n",
              "      <th>0</th>\n",
              "      <td>1539475168010</td>\n",
              "      <td>M 1.4 - 9km NE of Aguanga, CA</td>\n",
              "      <td>0</td>\n",
              "      <td>earthquake</td>\n",
              "      <td>,geoserve,nearby-cities,origin,phase-data,</td>\n",
              "      <td>-480.0</td>\n",
              "    </tr>\n",
              "    <tr>\n",
              "      <th>1</th>\n",
              "      <td>1539475129610</td>\n",
              "      <td>M 1.3 - 9km NE of Aguanga, CA</td>\n",
              "      <td>0</td>\n",
              "      <td>earthquake</td>\n",
              "      <td>,geoserve,nearby-cities,origin,phase-data,</td>\n",
              "      <td>-480.0</td>\n",
              "    </tr>\n",
              "    <tr>\n",
              "      <th>2</th>\n",
              "      <td>1539475062610</td>\n",
              "      <td>M 3.4 - 8km NE of Aguanga, CA</td>\n",
              "      <td>0</td>\n",
              "      <td>earthquake</td>\n",
              "      <td>,dyfi,focal-mechanism,geoserve,nearby-cities,o...</td>\n",
              "      <td>-480.0</td>\n",
              "    </tr>\n",
              "    <tr>\n",
              "      <th>3</th>\n",
              "      <td>1539474978070</td>\n",
              "      <td>M 0.4 - 9km NE of Aguanga, CA</td>\n",
              "      <td>0</td>\n",
              "      <td>earthquake</td>\n",
              "      <td>,geoserve,nearby-cities,origin,phase-data,</td>\n",
              "      <td>-480.0</td>\n",
              "    </tr>\n",
              "    <tr>\n",
              "      <th>4</th>\n",
              "      <td>1539474716050</td>\n",
              "      <td>M 2.2 - 10km NW of Avenal, CA</td>\n",
              "      <td>0</td>\n",
              "      <td>earthquake</td>\n",
              "      <td>,geoserve,nearby-cities,origin,phase-data,scit...</td>\n",
              "      <td>-480.0</td>\n",
              "    </tr>\n",
              "  </tbody>\n",
              "</table>\n",
              "</div>"
            ],
            "text/plain": [
              "            time                          title  tsunami        type  \\\n",
              "0  1539475168010  M 1.4 - 9km NE of Aguanga, CA        0  earthquake   \n",
              "1  1539475129610  M 1.3 - 9km NE of Aguanga, CA        0  earthquake   \n",
              "2  1539475062610  M 3.4 - 8km NE of Aguanga, CA        0  earthquake   \n",
              "3  1539474978070  M 0.4 - 9km NE of Aguanga, CA        0  earthquake   \n",
              "4  1539474716050  M 2.2 - 10km NW of Avenal, CA        0  earthquake   \n",
              "\n",
              "                                               types     tz  \n",
              "0         ,geoserve,nearby-cities,origin,phase-data, -480.0  \n",
              "1         ,geoserve,nearby-cities,origin,phase-data, -480.0  \n",
              "2  ,dyfi,focal-mechanism,geoserve,nearby-cities,o... -480.0  \n",
              "3         ,geoserve,nearby-cities,origin,phase-data, -480.0  \n",
              "4  ,geoserve,nearby-cities,origin,phase-data,scit... -480.0  "
            ]
          },
          "execution_count": 35,
          "metadata": {},
          "output_type": "execute_result"
        }
      ],
      "source": [
        "df.filter(regex=r'^t').head()"
      ]
    },
    {
      "cell_type": "markdown",
      "metadata": {
        "id": "5mA5rnRoS26_"
      },
      "source": [
        "- use `filter()` along the rows, by passing in `axis=0`. Here, we will use the `place` column as the index (we will cover `set_index()` in chapter 3):"
      ]
    },
    {
      "cell_type": "code",
      "execution_count": null,
      "metadata": {
        "id": "nh0uhCIHS27A",
        "outputId": "769d3de0-20c5-4b13-c3d9-13b87959a619"
      },
      "outputs": [
        {
          "data": {
            "text/html": [
              "<div>\n",
              "<style scoped>\n",
              "    .dataframe tbody tr th:only-of-type {\n",
              "        vertical-align: middle;\n",
              "    }\n",
              "\n",
              "    .dataframe tbody tr th {\n",
              "        vertical-align: top;\n",
              "    }\n",
              "\n",
              "    .dataframe thead th {\n",
              "        text-align: right;\n",
              "    }\n",
              "</style>\n",
              "<table border=\"1\" class=\"dataframe\">\n",
              "  <thead>\n",
              "    <tr style=\"text-align: right;\">\n",
              "      <th></th>\n",
              "      <th>mag</th>\n",
              "      <th>magType</th>\n",
              "      <th>title</th>\n",
              "    </tr>\n",
              "    <tr>\n",
              "      <th>place</th>\n",
              "      <th></th>\n",
              "      <th></th>\n",
              "      <th></th>\n",
              "    </tr>\n",
              "  </thead>\n",
              "  <tbody>\n",
              "    <tr>\n",
              "      <th>160km NNW of Nago, Japan</th>\n",
              "      <td>4.6</td>\n",
              "      <td>mb</td>\n",
              "      <td>M 4.6 - 160km NNW of Nago, Japan</td>\n",
              "    </tr>\n",
              "    <tr>\n",
              "      <th>7km ESE of Asahi, Japan</th>\n",
              "      <td>5.2</td>\n",
              "      <td>mww</td>\n",
              "      <td>M 5.2 - 7km ESE of Asahi, Japan</td>\n",
              "    </tr>\n",
              "    <tr>\n",
              "      <th>14km E of Tomakomai, Japan</th>\n",
              "      <td>4.5</td>\n",
              "      <td>mwr</td>\n",
              "      <td>M 4.5 - 14km E of Tomakomai, Japan</td>\n",
              "    </tr>\n",
              "    <tr>\n",
              "      <th>139km WSW of Naze, Japan</th>\n",
              "      <td>4.7</td>\n",
              "      <td>mb</td>\n",
              "      <td>M 4.7 - 139km WSW of Naze, Japan</td>\n",
              "    </tr>\n",
              "    <tr>\n",
              "      <th>53km ESE of Kamaishi, Japan</th>\n",
              "      <td>4.6</td>\n",
              "      <td>mb</td>\n",
              "      <td>M 4.6 - 53km ESE of Kamaishi, Japan</td>\n",
              "    </tr>\n",
              "  </tbody>\n",
              "</table>\n",
              "</div>"
            ],
            "text/plain": [
              "                             mag magType                                title\n",
              "place                                                                        \n",
              "160km NNW of Nago, Japan     4.6      mb     M 4.6 - 160km NNW of Nago, Japan\n",
              "7km ESE of Asahi, Japan      5.2     mww      M 5.2 - 7km ESE of Asahi, Japan\n",
              "14km E of Tomakomai, Japan   4.5     mwr   M 4.5 - 14km E of Tomakomai, Japan\n",
              "139km WSW of Naze, Japan     4.7      mb     M 4.7 - 139km WSW of Naze, Japan\n",
              "53km ESE of Kamaishi, Japan  4.6      mb  M 4.6 - 53km ESE of Kamaishi, Japan"
            ]
          },
          "execution_count": 36,
          "metadata": {},
          "output_type": "execute_result"
        }
      ],
      "source": [
        "df.set_index('place').filter(like='Japan', axis=0).filter(items=['mag', 'magType', 'title']).head()"
      ]
    },
    {
      "cell_type": "markdown",
      "metadata": {
        "id": "ctDSADAPS27A"
      },
      "source": [
        "This also works on `Series` objects and will run on the index:"
      ]
    },
    {
      "cell_type": "code",
      "execution_count": null,
      "metadata": {
        "id": "i9YOS1g9S27A",
        "outputId": "2d3ed980-707d-47ae-b85a-5bcf57974f52"
      },
      "outputs": [
        {
          "data": {
            "text/plain": [
              "place\n",
              "160km NNW of Nago, Japan          M 4.6 - 160km NNW of Nago, Japan\n",
              "7km ESE of Asahi, Japan            M 5.2 - 7km ESE of Asahi, Japan\n",
              "14km E of Tomakomai, Japan      M 4.5 - 14km E of Tomakomai, Japan\n",
              "139km WSW of Naze, Japan          M 4.7 - 139km WSW of Naze, Japan\n",
              "53km ESE of Kamaishi, Japan    M 4.6 - 53km ESE of Kamaishi, Japan\n",
              "Name: title, dtype: object"
            ]
          },
          "execution_count": 37,
          "metadata": {},
          "output_type": "execute_result"
        }
      ],
      "source": [
        "df.set_index('place').title.filter(like='Japan').head()"
      ]
    },
    {
      "cell_type": "markdown",
      "metadata": {
        "id": "3x_ujCMzS27A"
      },
      "source": [
        "<hr>\n",
        "<div>\n",
        "    <a href=\"./4-inspecting_dataframes.ipynb\">\n",
        "        <button style=\"float: left;\">&#8592; Previous Notebook</button>\n",
        "    </a>\n",
        "    <a href=\"./6-adding_and_removing_data.ipynb\">\n",
        "        <button style=\"float: right;\">Next Notebook &#8594;</button>\n",
        "    </a>\n",
        "</div>\n",
        "<br>\n",
        "<hr>"
      ]
    }
  ],
  "metadata": {
    "kernelspec": {
      "display_name": "Python 3",
      "language": "python",
      "name": "python3"
    },
    "language_info": {
      "codemirror_mode": {
        "name": "ipython",
        "version": 3
      },
      "file_extension": ".py",
      "mimetype": "text/x-python",
      "name": "python",
      "nbconvert_exporter": "python",
      "pygments_lexer": "ipython3",
      "version": "3.7.3"
    },
    "colab": {
      "provenance": []
    }
  },
  "nbformat": 4,
  "nbformat_minor": 0
}